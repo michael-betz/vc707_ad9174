{
 "cells": [
  {
   "cell_type": "code",
   "execution_count": 1,
   "metadata": {},
   "outputs": [],
   "source": [
    "from Arduino_SPI_bridge import SPI_Bridge\n",
    "from struct import pack\n",
    "from time import sleep\n",
    "\n",
    "def readWriteReg(isRead=True, adr=0, payload=[0], cs=8):\n",
    "    ''' \n",
    "    do a SPI transaction with Arduino_SPI_bridge\n",
    "    cs: chip select pin DAC = 8 HMC = 9\n",
    "    '''\n",
    "    adr &= 0xFFFF\n",
    "    pl = [(isRead << 7) | (adr >> 8), adr & 0xFF]\n",
    "    pl += payload\n",
    "    res = b.sendReceive(cs, bytes(pl))\n",
    "    if res[0]:\n",
    "        res = res[1][2:-1]  # Extract actual SPI payload\n",
    "        return res[2:]      # Extract chip reply\n",
    "    else:\n",
    "        return bytes()\n",
    "\n",
    "def rr(adr=0, l=1):\n",
    "    ''' read a register '''\n",
    "    dat = readWriteReg(True, adr, [0] * l)\n",
    "    if len(dat) == 1:\n",
    "        dat = dat[0]\n",
    "    return dat\n",
    "    \n",
    "def wr(adr, dat):\n",
    "    ''' write a register '''\n",
    "    if type(dat) is int:\n",
    "        dat = [dat]\n",
    "    return readWriteReg(False, adr, dat)\n",
    "\n",
    "def hd(dat):\n",
    "    ''' print a hex-dump '''\n",
    "    for i, d in enumerate(dat):\n",
    "        if i % 8 == 0 and len(dat) > 8:\n",
    "            print('\\n{:04x}: '.format(i), end='')\n",
    "        print('{:02x} '.format(d), end='')\n",
    "    print()"
   ]
  },
  {
   "cell_type": "code",
   "execution_count": 3,
   "metadata": {},
   "outputs": [
    {
     "name": "stdout",
     "output_type": "stream",
     "text": [
      "send:    0x09 0x00 0x00 0x0f 0x42 0x40 0x01 0x00 0xfa \n",
      "receive: 0x03 0x01 0xfd \n"
     ]
    },
    {
     "data": {
      "text/plain": [
       "True"
      ]
     },
     "execution_count": 3,
     "metadata": {},
     "output_type": "execute_result"
    }
   ],
   "source": [
    "b = SPI_Bridge('/dev/ttyUSB0')\n",
    "b.configSPI(baudrate=1000000, order=b.MSBFIRST, mode=b.SPI_MODE0)"
   ]
  },
  {
   "cell_type": "markdown",
   "metadata": {},
   "source": [
    "# Power up sequence"
   ]
  },
  {
   "cell_type": "code",
   "execution_count": 376,
   "metadata": {},
   "outputs": [
    {
     "data": {
      "text/plain": [
       "bytearray(b'\\x00')"
      ]
     },
     "execution_count": 376,
     "metadata": {},
     "output_type": "execute_result"
    }
   ],
   "source": [
    "# Power up sequence, Table 51\n",
    "wr(0x000, 0x81)  # Soft reset\n",
    "\n",
    "wr(0x000, 0x3C)  # 4 - wire SPI mode\n",
    "wr(0x091, 0x00)  # Power up clock RX\n",
    "# wr(0x206, 0x01)  # Enable PHYs\n",
    "wr(0x705, 0x01)  # Enable boot loader\n",
    "wr(0x090, 0x00)  # Power on DACs and bias supply\n",
    "\n",
    "# Disable DAC PLL and config for external clock, Table 52\n",
    "wr(0x095, 0x01)\n",
    "wr(0x790, 0xFF)\n",
    "wr(0x791, 0xFF)\n",
    "\n",
    "wr(0x008, (1 << 7) | (1 << 6)) # Select both DACs\n",
    "\n",
    "# Magic numbers from Table 54 (calibration)\n",
    "# wr(0x050, 0x2A)\n",
    "# wr(0x061, 0x68)\n",
    "# wr(0x051, 0x82)\n",
    "# wr(0x051, 0x83)\n",
    "# print('CAL_STAT:', rr(0x052))\n",
    "# wr(0x081, 0x03)  # Power down calibration clocks\n",
    "\n",
    "# JESD config, Table 55\n",
    "wr(0x100, 0x00)  # Power up digital datapath clocks\n",
    "wr(0x201, 0xFF)  # Power down unused PHYs.\n",
    "\n",
    "# Setup DDSes\n",
    "wr(0x1E6, (1 << 1))             # Enable DDSM_EN_CAL_DC_INPUT (see Fig. 80) (tone on / off)\n",
    "wr(0x112, (1 << 3) | (1 << 2))  # Enable NCO + Modulus\n",
    "wr(0x596, (1 << 3) | (1 << 2))  # Turn ON Transmit enable"
   ]
  },
  {
   "cell_type": "code",
   "execution_count": 405,
   "metadata": {},
   "outputs": [],
   "source": [
    "def setTone(dac_select=1, f_out=None, ampl=None, del_a=None, mod_b=None, phase=None, f_ref=5125e6):\n",
    "    '''\n",
    "    dac_select: 1 = first DAC, 2 = second DAC, 3 = both DACs\n",
    "    '''\n",
    "    # Select a DAC main datapath\n",
    "    dac_select &= 0x03\n",
    "    \n",
    "    if ampl is not None:\n",
    "        # Set DC amplitude level (2 bytes), 0x50FF is full-scale tone\n",
    "        # Updates immediately without the need for DDSM_FTW_LOAD_REQ\n",
    "        # TODO: not clear if synchronized to 16 bit write\n",
    "        ampl_b = int(min(ampl, 1.0) * 0x50FF).to_bytes(2, 'little')\n",
    "        wr(0x008, dac_select)  # need to use __CHANNEL_PAGE_ !!!!\n",
    "        wr(0x148, ampl_b)\n",
    "        print('DC_CAL_TONE: ', end='')\n",
    "        hd(rr(0x148, 2))\n",
    "    \n",
    "    # All other regs are on MAINDAC_PAGE\n",
    "    wr(0x008, (dac_select << 6))\n",
    "\n",
    "    if f_out is not None:\n",
    "        # ftw updates on posedge DDSM_FTW_LOAD_REQ\n",
    "        ftw_b = int(f_out / f_ref * 2**48).to_bytes(6, 'little')  # [Hz]\n",
    "        wr(0x114, ftw_b)  # Write 6 bytes FTW into main NCO\n",
    "        print('DDSM_FTW: ', end='')\n",
    "        hd(rr(0x114, 6))\n",
    "\n",
    "    if phase is not None:\n",
    "        # DDSM_NCO_PHASE_OFFSET updates immediately without DDSM_FTW_LOAD_REQ\n",
    "        # However it updates after each 8th risign edge on the SPI clock (see scope shot)\n",
    "        # it does not synchronize to the 16 bit register width :(\n",
    "        # --> phase jump of ~1.4 degree on register rollover is unavoidable :(\n",
    "        phase_b = int(phase / 180 * 2**15).to_bytes(2, 'little', signed=True)  # [deg]\n",
    "        wr(0x11C, phase_b)  # Write 2 bytes\n",
    "        print('DDSM_NCO_PHASE_OFFSET: ', end='')\n",
    "        hd(rr(0x11C, 2))\n",
    "\n",
    "    if del_a is not None:\n",
    "        # Modulus and Delta are updated after posedge DDSM_FTW_LOAD_REQ\n",
    "        # confirmed by scope measurement\n",
    "        wr(0x12A, del_a.to_bytes(6, 'little'))  # Write 6 bytes Delta [A]\n",
    "        print('DDSM_ACC_DELTA: ', end='')\n",
    "        hd(rr(0x12A, 6))\n",
    "        \n",
    "        wr(0x124, mod_b.to_bytes(6, 'little'))  # Write 6 bytes Modulus [B]\n",
    "        print('DDSM_ACC_MODULUS: ', end='')\n",
    "        hd(rr(0x124, 6))\n",
    "\n",
    "    if f_out is not None or del_a is not None:\n",
    "        # Positive edge on DDSM_FTW_LOAD_REQ applies the FTW and causes a phase glitch!\n",
    "        # Random phase jump -pi .. pi on selected DAC\n",
    "        wr(0x113, 0x01)  # Update settings\n",
    "        print('DDSM_FTW_LOAD_ACK:', (rr(0x113) >> 1) & 0x01)\n",
    "        wr(0x113, 0x00)"
   ]
  },
  {
   "cell_type": "code",
   "execution_count": 378,
   "metadata": {},
   "outputs": [
    {
     "name": "stdout",
     "output_type": "stream",
     "text": [
      "DC_CAL_TONE: ff 50 \n",
      "DDSM_FTW: 6a a6 1e a4 f4 18 \n",
      "DDSM_FTW_LOAD_ACK: 1\n",
      "DC_CAL_TONE: ff 50 \n",
      "DDSM_FTW: 6a a6 1e a4 f4 18 \n",
      "DDSM_ACC_DELTA: 63 00 00 00 00 00 \n",
      "DDSM_ACC_MODULUS: 64 00 00 00 00 00 \n",
      "DDSM_FTW_LOAD_ACK: 1\n"
     ]
    }
   ],
   "source": [
    "setTone(1, f_out=499.6e6, ampl=1)\n",
    "setTone(2, f_out=499.6e6, ampl=1, del_a=99, mod_b=100)\n",
    "# setTone(2, del_a=100, mod_b=99)"
   ]
  },
  {
   "cell_type": "code",
   "execution_count": 403,
   "metadata": {},
   "outputs": [
    {
     "name": "stdout",
     "output_type": "stream",
     "text": [
      "DDSM_NCO_PHASE_OFFSET: c2 f6 \n"
     ]
    }
   ],
   "source": [
    "setTone(2, phase=-13)"
   ]
  },
  {
   "cell_type": "markdown",
   "metadata": {},
   "source": [
    "# Things tried\n",
    "  * setting DDSM_FTW_UPDATE (0x113) to 0x60 enables auto updating. Writing to DDSM_FTW5 (0x119) applies the FTW and unfortunately also causes a phase glitch :(\n",
    "  * setting DDSM_FTW_LOAD_SYSREF does not trigger the FTW update, because SYSREF comes from HMC chip which is not active\n",
    "\n",
    "# More things to try\n",
    "  * is there a setting to avoid phase glitch on posedge DDSM_FTW_LOAD_REQ\n",
    "  * does the channel NCO also have this phase glitch\n",
    "  * use the fast hopping NCO?"
   ]
  },
  {
   "cell_type": "code",
   "execution_count": 408,
   "metadata": {},
   "outputs": [
    {
     "data": {
      "text/plain": [
       "bytearray(b'\\x00')"
      ]
     },
     "execution_count": 408,
     "metadata": {},
     "output_type": "execute_result"
    }
   ],
   "source": [
    "wr(0x113, 0x60)"
   ]
  },
  {
   "cell_type": "code",
   "execution_count": 424,
   "metadata": {},
   "outputs": [
    {
     "data": {
      "text/plain": [
       "'0x60'"
      ]
     },
     "execution_count": 424,
     "metadata": {},
     "output_type": "execute_result"
    }
   ],
   "source": [
    "wr(0x008, (2 << 6))\n",
    "hex(rr(0x113))"
   ]
  },
  {
   "cell_type": "code",
   "execution_count": 442,
   "metadata": {},
   "outputs": [
    {
     "name": "stdout",
     "output_type": "stream",
     "text": [
      "6a a6 1e a4 f4 17 \n"
     ]
    }
   ],
   "source": [
    "hd(rr(0x114, 6))"
   ]
  },
  {
   "cell_type": "code",
   "execution_count": 438,
   "metadata": {},
   "outputs": [
    {
     "data": {
      "text/plain": [
       "bytearray(b'\\x00')"
      ]
     },
     "execution_count": 438,
     "metadata": {},
     "output_type": "execute_result"
    }
   ],
   "source": [
    "wr(0x119, 0x17)"
   ]
  },
  {
   "cell_type": "code",
   "execution_count": 443,
   "metadata": {},
   "outputs": [
    {
     "data": {
      "text/plain": [
       "bytearray(b'\\x00')"
      ]
     },
     "execution_count": 443,
     "metadata": {},
     "output_type": "execute_result"
    }
   ],
   "source": [
    "wr(0x113, (1 << 2))"
   ]
  }
 ],
 "metadata": {
  "kernelspec": {
   "display_name": "Python 3",
   "language": "python",
   "name": "python3"
  },
  "language_info": {
   "codemirror_mode": {
    "name": "ipython",
    "version": 3
   },
   "file_extension": ".py",
   "mimetype": "text/x-python",
   "name": "python",
   "nbconvert_exporter": "python",
   "pygments_lexer": "ipython3",
   "version": "3.8.2"
  }
 },
 "nbformat": 4,
 "nbformat_minor": 2
}
