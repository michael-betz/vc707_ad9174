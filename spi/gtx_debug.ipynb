{
 "cells": [
  {
   "cell_type": "code",
   "execution_count": 24,
   "metadata": {},
   "outputs": [],
   "source": [
    "from time import sleep\n",
    "from spi_helper import *\n",
    "from litex import RemoteClient\n",
    "from ad9174 import Ad9174Settings, Ad9174Init\n",
    "\n",
    "def getId(r):\n",
    "    s = \"\"\n",
    "    for i in range(64):\n",
    "        temp = r.read(r.bases.identifier_mem + i * 4)\n",
    "        if temp == 0:\n",
    "            break\n",
    "        s += chr(temp & 0xFF)\n",
    "    return s\n",
    "\n",
    "# generate a PRBS7 bit-pattern to compare against\n",
    "a = 2\n",
    "for i in range(255):\n",
    "    nb = (((a >> 6) ^ (a >> 5)) & 1)\n",
    "    a = ((a << 1) | nb)\n",
    "prbs7_str = \"{:b}\".format(a)\n",
    "prbs7_str_inv = \"{:b}\".format(a ^ (2**256 - 1))\n",
    "\n",
    "def describePattern(bVal):\n",
    "    ''' identifies some common test patterns '''\n",
    "    desc = ''\n",
    "    if bVal.find('00111110101100000101') >= 0:\n",
    "        desc = ','\n",
    "    elif prbs7_str.find(bVal) >= 0:\n",
    "        desc = 'PRBS7'\n",
    "    elif prbs7_str_inv.find(bVal) >= 0:\n",
    "        desc = '/PRBS7'\n",
    "    return desc"
   ]
  },
  {
   "cell_type": "markdown",
   "metadata": {},
   "source": [
    "# Connec to FPGA"
   ]
  },
  {
   "cell_type": "code",
   "execution_count": 2,
   "metadata": {
    "scrolled": true
   },
   "outputs": [
    {
     "data": {
      "text/plain": [
       "'AD9174 + VC707 test 2021-02-21 22:54:45'"
      ]
     },
     "execution_count": 2,
     "metadata": {},
     "output_type": "execute_result"
    }
   ],
   "source": [
    "r = RemoteClient(csr_csv='../build/csr.csv', debug=False, port=1234)\n",
    "r.open()\n",
    "getId(r)"
   ]
  },
  {
   "cell_type": "markdown",
   "metadata": {},
   "source": [
    "# Setup AD9174"
   ]
  },
  {
   "cell_type": "code",
   "execution_count": 3,
   "metadata": {},
   "outputs": [
    {
     "name": "stdout",
     "output_type": "stream",
     "text": [
      "----------------\n",
      " JESD mode 20\n",
      "----------------\n",
      "INTERP_CH: 1  INTERP_MAIN: 1  DSP_CLK_DIV: 16\n",
      "JESD204BSettings(): 5a 05 00 87 00 1f 00 0f 2f 23 80 00 00 e6 \n",
      "         DID:  90        BID:   5     ADJCNT:   0        LID:   0 \n",
      "       PHADJ:   0     ADJDIR:   0          L:   8        SCR:   1 \n",
      "           F:   1          K:  32          M:   1          N:  16 \n",
      "          CS:   0         NP:  16  SUBCLASSV:   1          S:   4 \n",
      "       JESDV:   1         CF:   0         HD:   1       RES1:   0 \n",
      "        RES2:   0       FCHK: 230 \n",
      "   [ LINK_DW:  32     FR_CLK:   4 ]\n",
      "AD917X_NVM_BLR_DONE: 1\n",
      "PROD_ID: 0x9174\n",
      "PROD_GRADE: 0  DEV_REVISION: 5\n",
      "DAC PLL locked: 1\n",
      "DLL locked: 1\n",
      "SPI_PAGEINDX: 0b01000001\n",
      "CAL_STAT: 1\n",
      "SERDES PLL locked: 1\n",
      "MODE_NOT_IN_TABLE: 0\n",
      "f_jesd = 307.197416 MHz  f_ref = 3.071974 MHz\n"
     ]
    }
   ],
   "source": [
    "settings = Ad9174Settings(json_file='../build/csr.json')\n",
    "print(settings)\n",
    "ad = Ad9174Init(r, settings)\n",
    "wr = ad.ad.wr\n",
    "rr = ad.ad.rr\n",
    "\n",
    "ad.hmc.init_hmc7044_int(N2=20)\n",
    "ad.hmc.setup_channel( 2, 2)    # Clock to the AD9174\n",
    "ad.hmc.setup_channel(12, 8)    # DSP clock to the FPGA\n",
    "ad.hmc.setup_channel( 3, 800)  # SYSREF to AD9174\n",
    "ad.hmc.setup_channel(13, 800)  # SYSREF to FPGA\n",
    "ad.hmc.trigger_div_reset()\n",
    "\n",
    "ad.init_ad9174(ADC_CLK_DIV=4, USE_PLL=True, M_DIV=2, N_DIV=2, OUT_DIV=2)\n",
    "\n",
    "ad.fpga_print_clocks()"
   ]
  },
  {
   "cell_type": "markdown",
   "metadata": {},
   "source": [
    "# Reset the GTX phy"
   ]
  },
  {
   "cell_type": "code",
   "execution_count": 4,
   "metadata": {},
   "outputs": [
    {
     "name": "stdout",
     "output_type": "stream",
     "text": [
      "status: 000\n"
     ]
    }
   ],
   "source": [
    "# r.regs.ctrl_reset.write(1)  # resets ALL clockdomains (HARSH!)\n",
    "r.regs.control_control.write(0b01)  # resets PHYs and jesd core\n",
    "print('status: {:03b}'.format(r.regs.control_status.read()))\n",
    "\n",
    "# bit1: links_enable,  bit0: phys_reset\n",
    "r.regs.control_control.write(0b00)"
   ]
  },
  {
   "cell_type": "code",
   "execution_count": 5,
   "metadata": {},
   "outputs": [
    {
     "name": "stdout",
     "output_type": "stream",
     "text": [
      "status: 101\n"
     ]
    }
   ],
   "source": [
    "# bit2: /jsync,  bit1: links_ready,  bit0: all phys initialized\n",
    "print('status: {:03b}'.format(r.regs.control_status.read()))"
   ]
  },
  {
   "cell_type": "markdown",
   "metadata": {},
   "source": [
    "# GTX testpattern --> AD9174 snapshot"
   ]
  },
  {
   "cell_type": "code",
   "execution_count": 42,
   "metadata": {},
   "outputs": [
    {
     "data": {
      "text/plain": [
       "1"
      ]
     },
     "execution_count": 42,
     "metadata": {},
     "output_type": "execute_result"
    }
   ],
   "source": [
    "# Test pattern modes of the liteJESD phy\n",
    "# 0 = normal operation\n",
    "# 1 = prbs7\n",
    "# 2 = prbs15\n",
    "# 3 = prbs31\n",
    "# 4 = static testpattern \n",
    "#     by default a square wave of freq. line_rate / 40\n",
    "val = 1\n",
    "for i in range(8):\n",
    "    getattr(r.regs, 'phy{}_transmitter_config'.format(i)).write(val)\n",
    "\n",
    "r.regs.phy0_transmitter_config.read()"
   ]
  },
  {
   "cell_type": "markdown",
   "metadata": {},
   "source": [
    "If the pattern is stable on all lanes and does not change when running the below cell multiple times, the GTXes are locked.\n",
    "\n",
    "`K28.5` = 0011111010 / 1100000101 "
   ]
  },
  {
   "cell_type": "code",
   "execution_count": 43,
   "metadata": {},
   "outputs": [
    {
     "name": "stdout",
     "output_type": "stream",
     "text": [
      "PHY_SNAPSHOT_DATA:\n",
      "0: 0x438936b7b1, 0b0100001110001001001101101011011110110001, PRBS7\n",
      "1: 0x41851e459d, 0b0100000110000101000111100100010110011101, PRBS7\n",
      "2: 0x8106147916, 0b1000000100000110000101000111100100010110, PRBS7\n",
      "3: 0x49b5bd8d2e, 0b0100100110110101101111011000110100101110, PRBS7\n",
      "4: 0x7d0e24dade, 0b0111110100001110001001001101101011011110, PRBS7\n",
      "5: 0x830a3c8b3a, 0b1000001100001010001111001000101100111010, PRBS7\n",
      "6: 0x8106147916, 0b1000000100000110000101000111100100010110, PRBS7\n",
      "7: 0x2afe041851, 0b0010101011111110000001000001100001010001, PRBS7\n"
     ]
    }
   ],
   "source": [
    "wr('PHY_PRBS_TEST_EN', 0xFF)  # Needed: clock to test module\n",
    "wr('PHY_PRBS_TEST_CTRL', 0b01)  # rst\n",
    "\n",
    "print('PHY_SNAPSHOT_DATA:')\n",
    "for lane in range(8):\n",
    "    wr('PHY_PRBS_TEST_CTRL', (lane << 4))    \n",
    "    wr('PHY_DATA_SNAPSHOT_CTRL', 0x01)\n",
    "    wr('PHY_DATA_SNAPSHOT_CTRL', 0x00)\n",
    "    val = 0\n",
    "    for i in range(5):\n",
    "        val = (val << 8) | rr(0x323 - i)\n",
    "    bVal = '{:040b}'.format(val)\n",
    "    print('{0:}: 0x{1:010x}, 0b{2:}, {3:}'.format(lane, val, bVal, describePattern(bVal)))"
   ]
  },
  {
   "cell_type": "markdown",
   "metadata": {},
   "source": [
    "# PRBS check"
   ]
  },
  {
   "cell_type": "code",
   "execution_count": 44,
   "metadata": {},
   "outputs": [
    {
     "name": "stdout",
     "output_type": "stream",
     "text": [
      "PHY_PRBS_TEST_STATUS: 11111111 (high = pass)\n",
      "lane: 0, err_cnt: 000000\n",
      "lane: 1, err_cnt: 000000\n",
      "lane: 2, err_cnt: 000000\n",
      "lane: 3, err_cnt: 000000\n",
      "lane: 4, err_cnt: 000000\n",
      "lane: 5, err_cnt: 000000\n",
      "lane: 6, err_cnt: 000000\n",
      "lane: 7, err_cnt: 000000\n"
     ]
    }
   ],
   "source": [
    "prbs = 0  # 0: PRBS7, 1: PRBS15, 2: PRBS31\n",
    "wr('PHY_PRBS_TEST_CTRL', (prbs << 2) | 0b00)\n",
    "wr('PHY_PRBS_TEST_EN', 0xFF)  # Enable test for all lanes\n",
    "wr('PHY_PRBS_TEST_CTRL', (prbs << 2) | 0b01)  # rst\n",
    "wr('PHY_PRBS_TEST_CTRL', (prbs << 2) | 0b00)\n",
    "wr('PHY_PRBS_TEST_THRESHOLD_LOBITS', 0xFF)  # error threshold\n",
    "\n",
    "wr('PHY_PRBS_TEST_CTRL', (prbs << 2) | 0b10)  # start test\n",
    "sleep(0.01)\n",
    "wr('PHY_PRBS_TEST_CTRL', (prbs << 2) | 0b00)  # stop test\n",
    "\n",
    "print('PHY_PRBS_TEST_STATUS: {:08b} (high = pass)'.format(rr('PHY_PRBS_TEST_STATUS')))\n",
    "for lane in range(8):\n",
    "    wr('PHY_PRBS_TEST_CTRL', (lane << 4) | (prbs << 2) | 0b00)  # read-out lane X\n",
    "    err_cnt = rr('PHY_PRBS_TEST_ERRCNT_HIBITS') << 16 | \\\n",
    "              rr('PHY_PRBS_TEST_ERRCNT_MIDBITS') << 8 | \\\n",
    "              rr('PHY_PRBS_TEST_ERRCNT_LOBITS')\n",
    "    print('lane: {}, err_cnt: {:06x}'.format(lane, err_cnt))"
   ]
  },
  {
   "cell_type": "markdown",
   "metadata": {},
   "source": [
    "# Setup for internal loopback PRBS check"
   ]
  },
  {
   "cell_type": "code",
   "execution_count": 32,
   "metadata": {},
   "outputs": [
    {
     "data": {
      "text/plain": [
       "0"
      ]
     },
     "execution_count": 32,
     "metadata": {},
     "output_type": "execute_result"
    }
   ],
   "source": [
    "wr(0x240, 0)\n",
    "wr(0x241, 0)\n",
    "# wr('CDR_BITINVERSE', 0x00)\n",
    "wr('LBT_REG_CNTRL_0', 0xFF)  # enable loopback for lane X\n",
    "halfrate = 0  # 1: enable halfrate mode (keep off!)\n",
    "wr('LBT_REG_CNTRL_1', (halfrate << 1) | 1)\n",
    "wr('LBT_REG_CNTRL_1', halfrate << 1)"
   ]
  },
  {
   "cell_type": "code",
   "execution_count": 34,
   "metadata": {},
   "outputs": [
    {
     "data": {
      "text/plain": [
       "0"
      ]
     },
     "execution_count": 34,
     "metadata": {},
     "output_type": "execute_result"
    }
   ],
   "source": [
    "rr(0x201)"
   ]
  }
 ],
 "metadata": {
  "kernelspec": {
   "display_name": "litex2",
   "language": "python",
   "name": "litex2"
  },
  "language_info": {
   "codemirror_mode": {
    "name": "ipython",
    "version": 3
   },
   "file_extension": ".py",
   "mimetype": "text/x-python",
   "name": "python",
   "nbconvert_exporter": "python",
   "pygments_lexer": "ipython3",
   "version": "3.9.1+"
  }
 },
 "nbformat": 4,
 "nbformat_minor": 2
}
