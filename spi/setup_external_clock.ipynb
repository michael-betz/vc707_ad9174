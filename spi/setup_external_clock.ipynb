{
 "cells": [
  {
   "cell_type": "markdown",
   "metadata": {},
   "source": [
    "# init AD9174 with external sampling clock\n",
    "Direct drive of the DAC. No additonal VCO. Best configuration for phase noise.\n",
    "\n",
    "Needs an external 5.12 GHz DAC sampling clock connected to J34 (`CLKIN`) of the `AD9174-FMC_EBZ` board. Make sure C34 and C35 are populated. Connect J3 and J41 with a short SMA cable. See `../doc/dac_clocking.png` for details.\n",
    "\n",
    "requires litex_server running and connected to the VC707 USB-uart port:\n",
    "\n",
    "```bash\n",
    "litex_server --uart --uart-port /dev/ttyUSB0 --uart-baudrate 115200\n",
    "\n",
    "```"
   ]
  },
  {
   "cell_type": "code",
   "execution_count": 1,
   "metadata": {},
   "outputs": [],
   "source": [
    "import sys\n",
    "import numpy as np\n",
    "from time import sleep\n",
    "from litex import RemoteClient\n",
    "from ad9174 import Ad9174Settings, Ad9174Init\n",
    "from hmc7044 import Hmc7044\n",
    "from client_tools import getId, setSamples, big_write, big_read, hd, set_trigger_freq, set_trigger_ext\n",
    "import time"
   ]
  },
  {
   "cell_type": "code",
   "execution_count": 2,
   "metadata": {},
   "outputs": [
    {
     "name": "stdout",
     "output_type": "stream",
     "text": [
      "----------------\n",
      " JESD mode 20\n",
      "----------------\n",
      "INTERP_CH: 1  INTERP_MAIN: 1  DSP_CLK_DIV: 16\n",
      "JESD204BSettings(): 5a 05 00 87 00 1f 00 0f 2f 23 80 00 00 e6 \n",
      "         DID:  90        BID:   5     ADJCNT:   0        LID:   0 \n",
      "       PHADJ:   0     ADJDIR:   0          L:   8        SCR:   1 \n",
      "           F:   1          K:  32          M:   1          N:  16 \n",
      "          CS:   0         NP:  16  SUBCLASSV:   1          S:   4 \n",
      "       JESDV:   1         CF:   0         HD:   1       RES1:   0 \n",
      "        RES2:   0       FCHK: 230 \n",
      "   [ LINK_DW:  32     FR_CLK:   4 ]\n"
     ]
    }
   ],
   "source": [
    "settings = Ad9174Settings(json_file='../build/csr.json')\n",
    "print(settings)"
   ]
  },
  {
   "cell_type": "code",
   "execution_count": 3,
   "metadata": {},
   "outputs": [
    {
     "data": {
      "text/plain": [
       "'AD9174 + VC707 test 2021-04-28 15:54:30'"
      ]
     },
     "execution_count": 3,
     "metadata": {},
     "output_type": "execute_result"
    }
   ],
   "source": [
    "r = RemoteClient(csr_csv='../build/csr.csv', debug=False, port=1234)\n",
    "r.open()\n",
    "getId(r)"
   ]
  },
  {
   "cell_type": "code",
   "execution_count": 4,
   "metadata": {},
   "outputs": [],
   "source": [
    "ad = Ad9174Init(r, settings)\n",
    "wr = ad.ad.wr\n",
    "rr = ad.ad.rr"
   ]
  },
  {
   "cell_type": "markdown",
   "metadata": {},
   "source": [
    "# 1. init AD9174"
   ]
  },
  {
   "cell_type": "markdown",
   "metadata": {},
   "source": [
    "use 5GHz external clock"
   ]
  },
  {
   "cell_type": "code",
   "execution_count": 5,
   "metadata": {},
   "outputs": [],
   "source": [
    "# ad.init_ad9174(ADC_CLK_DIV=4, USE_PLL=False)"
   ]
  },
  {
   "cell_type": "markdown",
   "metadata": {},
   "source": [
    "use 1GHz external clock"
   ]
  },
  {
   "cell_type": "code",
   "execution_count": 6,
   "metadata": {},
   "outputs": [
    {
     "name": "stdout",
     "output_type": "stream",
     "text": [
      "AD917X_NVM_BLR_DONE: 1\n",
      "PROD_ID: 0x9174\n",
      "PROD_GRADE: 0  DEV_REVISION: 5\n",
      "DAC PLL locked: 1\n",
      "DLL locked: 1\n",
      "SPI_PAGEINDX: 0b01000001\n",
      "CAL_STAT: 1\n",
      "SERDES PLL locked: 1\n",
      "MODE_NOT_IN_TABLE: 0\n"
     ]
    }
   ],
   "source": [
    "ad.init_ad9174_pllx5()"
   ]
  },
  {
   "cell_type": "markdown",
   "metadata": {},
   "source": [
    "# 2. init HMC7044"
   ]
  },
  {
   "cell_type": "code",
   "execution_count": 7,
   "metadata": {},
   "outputs": [],
   "source": [
    "hmc = ad.hmc\n",
    "hmc.init_hmc7044_ext()\n",
    "\n",
    "clk_div = ad.settings.DSP_CLK_DIV // 4\n",
    "hmc.setup_channel(12, clk_div, sync_en=False)     # DEV_CLK to the FPGA\n",
    "\n",
    "# for litejesd, SYSREF must be an integer multiple of the LMFC\n",
    "lmfc_cycles = ad.settings.K // ad.settings.FR_CLK\n",
    "hmc.setup_channel(3, clk_div * lmfc_cycles * 10)   # SYSREF (DAC)\n",
    "hmc.setup_channel(13, clk_div * lmfc_cycles * 10)  # SYSREF (FPGA)\n",
    "# hmc.trigger_reseed()\n",
    "hmc.trigger_div_reset()"
   ]
  },
  {
   "cell_type": "code",
   "execution_count": 9,
   "metadata": {},
   "outputs": [
    {
     "name": "stdout",
     "output_type": "stream",
     "text": [
      "f_jesd = 312.501641 MHz  f_ref = 3.906270 MHz\n"
     ]
    }
   ],
   "source": [
    "ad.fpga_print_clocks()"
   ]
  },
  {
   "cell_type": "markdown",
   "metadata": {},
   "source": [
    "# 3. Init the FPGA side"
   ]
  },
  {
   "cell_type": "code",
   "execution_count": 10,
   "metadata": {},
   "outputs": [
    {
     "name": "stdout",
     "output_type": "stream",
     "text": [
      "status: 000\n",
      "status: 111\n",
      "SYNC_ROTATION_DONE 1\n",
      "DYN_LINK_LATENCY  2 cycles\n",
      "😃\n"
     ]
    }
   ],
   "source": [
    "# r.regs.ctrl_reset.write(1)  # resets ALL clockdomains (HARSH!)\n",
    "r.regs.control_control.write(0b01)  # resets PHYs and jesd core\n",
    "print('status: {:03b}'.format(r.regs.control_status.read()))\n",
    "\n",
    "# bit1: links_enable,  bit0: phys_reset\n",
    "r.regs.control_control.write(0b10)\n",
    "# bit2: /jsync,  bit1: links_ready,  bit0: phys_ready\n",
    "print('status: {:03b}'.format(r.regs.control_status.read()))\n",
    "\n",
    "ad.trigger_jref_sync()\n",
    "ad.print_irq_flags(True, True)\n",
    "if ad.print_irq_flags(True):\n",
    "    print('😭')\n",
    "else:\n",
    "    print('😃')"
   ]
  },
  {
   "cell_type": "markdown",
   "metadata": {},
   "source": [
    "# 4. Test link"
   ]
  },
  {
   "cell_type": "code",
   "execution_count": 11,
   "metadata": {},
   "outputs": [
    {
     "name": "stdout",
     "output_type": "stream",
     "text": [
      "\n",
      "JESD settings, received on lane 0 vs (programmed):\n",
      "450: 5a (5a)\n",
      "451: 05 (05)\n",
      "452: 00 (00)\n",
      "453: 87 (87)\n",
      "454: 00 (00)\n",
      "455: 1f (1f)\n",
      "456: 00 (00)\n",
      "457: 0f (0f)\n",
      "458: 2f (2f)\n",
      "459: 23 (23)\n",
      "45a: 80 (80)\n",
      "45b: 00 (00)\n",
      "45c: 00 (00)\n",
      "45d: e6 (e6)\n",
      "CHK: e6 (e6) \n",
      "\n",
      "Lane status:\n",
      "      LANE_DESKEW: 11111111\n",
      "    BAD_DISPARITY: 00000000\n",
      "     NOT_IN_TABLE: 00000000\n",
      " UNEXPECTED_KCHAR: 00000000\n",
      "    CODE_GRP_SYNC: 11111111\n",
      "       FRAME_SYNC: 11111111\n",
      "    GOOD_CHECKSUM: 11111111\n",
      "   INIT_LANE_SYNC: 11111111\n",
      "FIFO_STATUS_REG_0: 00000000\n",
      "FIFO_STATUS_REG_1: 00000000\n",
      "fpga j_sync errs: 127998174\n",
      "\n",
      "STPL test:\n",
      "converter: 0, sample: 0, tp: 597a, fail: 0\n",
      "converter: 0, sample: 1, tp: b2f3, fail: 0\n",
      "converter: 0, sample: 2, tp: 0c6c, fail: 0\n",
      "converter: 0, sample: 3, tp: 65e5, fail: 0\n",
      "converter: 0, sample: 4, tp: bf5e, fail: 0\n",
      "converter: 0, sample: 5, tp: 18d7, fail: 0\n",
      "converter: 0, sample: 6, tp: 7250, fail: 0\n",
      "converter: 0, sample: 7, tp: cbc9, fail: 0\n",
      "converter: 0, sample: 8, tp: 2542, fail: 0\n",
      "converter: 0, sample: 9, tp: 7ebb, fail: 0\n",
      "converter: 0, sample: 10, tp: d834, fail: 0\n",
      "converter: 0, sample: 11, tp: 31ad, fail: 0\n",
      "converter: 0, sample: 12, tp: 8b26, fail: 0\n",
      "converter: 0, sample: 13, tp: e49f, fail: 0\n",
      "converter: 0, sample: 14, tp: 3e18, fail: 0\n",
      "converter: 0, sample: 15, tp: 9791, fail: 0\n"
     ]
    },
    {
     "data": {
      "text/plain": [
       "0"
      ]
     },
     "execution_count": 11,
     "metadata": {},
     "output_type": "execute_result"
    }
   ],
   "source": [
    "ad.print_irq_flags(True)\n",
    "print()\n",
    "\n",
    "ad.print_ilas()\n",
    "\n",
    "ad.print_lane_status()\n",
    "print()\n",
    "\n",
    "ad.test_stpl()"
   ]
  },
  {
   "cell_type": "markdown",
   "metadata": {},
   "source": [
    "# real sample waveforms\n",
    "Output can be observed on IQ analyzer / scope."
   ]
  },
  {
   "cell_type": "markdown",
   "metadata": {},
   "source": [
    "set internal trigger at 1MHz"
   ]
  },
  {
   "cell_type": "code",
   "execution_count": 20,
   "metadata": {},
   "outputs": [],
   "source": [
    "set_trigger_freq(r, 1e6)\n",
    "set_trigger_ext(r, False)"
   ]
  },
  {
   "cell_type": "code",
   "execution_count": 16,
   "metadata": {},
   "outputs": [
    {
     "name": "stdout",
     "output_type": "stream",
     "text": [
      "4096\n"
     ]
    }
   ],
   "source": [
    "# Positive and negative pulse\n",
    "samples = np.zeros(4096, dtype=np.int16)\n",
    "samples[100] = 32000\n",
    "samples[140] = -32000\n",
    "\n",
    "# 1 sine wave period over 100 samples\n",
    "sin_data = np.array(np.sin(np.linspace(0, 2 * np.pi, 100)) * 15000, dtype=np.int16)\n",
    "samples[200: 200 + len(sin_data)] = sin_data\n",
    "\n",
    "# linear rise over 100 samples\n",
    "lin_data = np.linspace(-10000, 10000, 100, dtype=np.int16)\n",
    "samples[400: 400 + len(lin_data)] = lin_data\n",
    "\n",
    "print(len(samples))\n",
    "setSamples(r, samples)"
   ]
  },
  {
   "cell_type": "code",
   "execution_count": 17,
   "metadata": {},
   "outputs": [],
   "source": [
    "ad.enable_transmit()"
   ]
  }
 ],
 "metadata": {
  "kernelspec": {
   "display_name": "litex",
   "language": "python",
   "name": "litex"
  },
  "language_info": {
   "codemirror_mode": {
    "name": "ipython",
    "version": 3
   },
   "file_extension": ".py",
   "mimetype": "text/x-python",
   "name": "python",
   "nbconvert_exporter": "python",
   "pygments_lexer": "ipython3",
   "version": "3.9.1"
  }
 },
 "nbformat": 4,
 "nbformat_minor": 2
}
