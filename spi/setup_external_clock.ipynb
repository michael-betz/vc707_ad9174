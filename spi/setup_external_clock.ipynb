{
 "cells": [
  {
   "cell_type": "markdown",
   "metadata": {},
   "source": [
    "# init AD9174 with external sampling clock\n",
    "Direct drive of the DAC. No additonal VCO. Best configuration for phase noise.\n",
    "\n",
    "Needs an external 5.12 GHz DAC sampling clock connected to J34 (`CLKIN`) of the `AD9174-FMC_EBZ` board. Make sure C34 and C35 are populated. Connect J3 and J41 with a short SMA cable. See `../doc/dac_clocking.png` for details.\n",
    "\n",
    "requires litex_server running and connected to the VC707 USB-uart port:\n",
    "\n",
    "```bash\n",
    "litex_server --uart --uart-port /dev/ttyUSB0 --uart-baudrate 115200\n",
    "\n",
    "```"
   ]
  },
  {
   "cell_type": "code",
   "execution_count": 1,
   "metadata": {},
   "outputs": [],
   "source": [
    "import sys\n",
    "from numpy import *\n",
    "from time import sleep\n",
    "from litex import RemoteClient\n",
    "from ad9174 import Ad9174Settings, Ad9174Init\n",
    "from hmc7044 import Hmc7044\n",
    "from client_tools import getId, setSamples, big_write, big_read, hd"
   ]
  },
  {
   "cell_type": "code",
   "execution_count": 2,
   "metadata": {},
   "outputs": [
    {
     "name": "stdout",
     "output_type": "stream",
     "text": [
      "----------------\n",
      " JESD mode 20\n",
      "----------------\n",
      "INTERP_CH: 1  INTERP_MAIN: 1  DSP_CLK_DIV: 16\n",
      "JESD204BSettings(): 5a 05 00 87 00 1f 00 0f 2f 23 80 00 00 e6 \n",
      "         DID:  90        BID:   5     ADJCNT:   0        LID:   0 \n",
      "       PHADJ:   0     ADJDIR:   0          L:   8        SCR:   1 \n",
      "           F:   1          K:  32          M:   1          N:  16 \n",
      "          CS:   0         NP:  16  SUBCLASSV:   1          S:   4 \n",
      "       JESDV:   1         CF:   0         HD:   1       RES1:   0 \n",
      "        RES2:   0       FCHK: 230 \n",
      "   [ LINK_DW:  32     FR_CLK:   4 ]\n"
     ]
    }
   ],
   "source": [
    "settings = Ad9174Settings(json_file='../build/csr.json')\n",
    "print(settings)"
   ]
  },
  {
   "cell_type": "code",
   "execution_count": 3,
   "metadata": {},
   "outputs": [
    {
     "data": {
      "text/plain": [
       "'AD9174 + VC707 test 2021-03-11 10:29:22'"
      ]
     },
     "execution_count": 3,
     "metadata": {},
     "output_type": "execute_result"
    }
   ],
   "source": [
    "r = RemoteClient(csr_csv='../build/csr.csv', debug=False, port=1234)\n",
    "r.open()\n",
    "getId(r)"
   ]
  },
  {
   "cell_type": "code",
   "execution_count": 4,
   "metadata": {},
   "outputs": [],
   "source": [
    "ad = Ad9174Init(r, settings)\n",
    "wr = ad.ad.wr\n",
    "rr = ad.ad.rr"
   ]
  },
  {
   "cell_type": "markdown",
   "metadata": {},
   "source": [
    "# 1. init AD9174"
   ]
  },
  {
   "cell_type": "code",
   "execution_count": 5,
   "metadata": {},
   "outputs": [
    {
     "name": "stdout",
     "output_type": "stream",
     "text": [
      "AD917X_NVM_BLR_DONE: 1\n",
      "PROD_ID: 0x9174\n",
      "PROD_GRADE: 0  DEV_REVISION: 5\n",
      "DLL locked: 1\n",
      "SPI_PAGEINDX: 0b01000001\n",
      "CAL_STAT: 1\n",
      "SERDES PLL locked: 1\n",
      "MODE_NOT_IN_TABLE: 0\n"
     ]
    }
   ],
   "source": [
    "ad.init_ad9174(ADC_CLK_DIV=4, USE_PLL=False)"
   ]
  },
  {
   "cell_type": "markdown",
   "metadata": {},
   "source": [
    "# 2. init HMC7044"
   ]
  },
  {
   "cell_type": "code",
   "execution_count": 6,
   "metadata": {},
   "outputs": [],
   "source": [
    "hmc = ad.hmc\n",
    "hmc.init_hmc7044_ext()\n",
    "\n",
    "clk_div = ad.settings.DSP_CLK_DIV // 4\n",
    "hmc.setup_channel(12, clk_div, sync_en=False)     # DEV_CLK to the FPGA\n",
    "\n",
    "# for litejesd, SYSREF must be an integer multiple of the LMFC\n",
    "lmfc_cycles = ad.settings.K // ad.settings.FR_CLK\n",
    "hmc.setup_channel(3, clk_div * lmfc_cycles * 10)   # SYSREF (DAC)\n",
    "hmc.setup_channel(13, clk_div * lmfc_cycles * 10)  # SYSREF (FPGA)\n",
    "# hmc.trigger_reseed()\n",
    "hmc.trigger_div_reset()"
   ]
  },
  {
   "cell_type": "code",
   "execution_count": 7,
   "metadata": {},
   "outputs": [
    {
     "name": "stdout",
     "output_type": "stream",
     "text": [
      "f_jesd = 312.501335 MHz  f_ref = 3.906267 MHz\n"
     ]
    }
   ],
   "source": [
    "ad.fpga_print_clocks()"
   ]
  },
  {
   "cell_type": "markdown",
   "metadata": {},
   "source": [
    "# 3. Init the FPGA side"
   ]
  },
  {
   "cell_type": "code",
   "execution_count": 8,
   "metadata": {},
   "outputs": [
    {
     "name": "stdout",
     "output_type": "stream",
     "text": [
      "status: 000\n",
      "status: 111\n",
      "SYNC_ROTATION_DONE 1\n",
      "DYN_LINK_LATENCY  2 cycles\n",
      "😃\n"
     ]
    }
   ],
   "source": [
    "# r.regs.ctrl_reset.write(1)  # resets ALL clockdomains (HARSH!)\n",
    "r.regs.control_control.write(0b01)  # resets PHYs and jesd core\n",
    "print('status: {:03b}'.format(r.regs.control_status.read()))\n",
    "\n",
    "# bit1: links_enable,  bit0: phys_reset\n",
    "r.regs.control_control.write(0b10)\n",
    "# bit2: /jsync,  bit1: links_ready,  bit0: phys_ready\n",
    "print('status: {:03b}'.format(r.regs.control_status.read()))\n",
    "\n",
    "ad.trigger_jref_sync()\n",
    "ad.print_irq_flags(True, True)\n",
    "if ad.print_irq_flags(True):\n",
    "    print('😭')\n",
    "else:\n",
    "    print('😃')"
   ]
  },
  {
   "cell_type": "markdown",
   "metadata": {},
   "source": [
    "# 4. Test link"
   ]
  },
  {
   "cell_type": "code",
   "execution_count": 9,
   "metadata": {},
   "outputs": [
    {
     "name": "stdout",
     "output_type": "stream",
     "text": [
      "\n",
      "JESD settings, received on lane 0 vs (programmed):\n",
      "450: 5a (5a)\n",
      "451: 05 (05)\n",
      "452: 00 (00)\n",
      "453: 87 (87)\n",
      "454: 00 (00)\n",
      "455: 1f (1f)\n",
      "456: 00 (00)\n",
      "457: 0f (0f)\n",
      "458: 2f (2f)\n",
      "459: 23 (23)\n",
      "45a: 80 (80)\n",
      "45b: 00 (00)\n",
      "45c: 00 (00)\n",
      "45d: e6 (e6)\n",
      "CHK: e6 (e6) \n",
      "\n",
      "Lane status:\n",
      "      LANE_DESKEW: 11111111\n",
      "    BAD_DISPARITY: 00000000\n",
      "     NOT_IN_TABLE: 00000000\n",
      " UNEXPECTED_KCHAR: 00000000\n",
      "    CODE_GRP_SYNC: 11111111\n",
      "       FRAME_SYNC: 11111111\n",
      "    GOOD_CHECKSUM: 11111111\n",
      "   INIT_LANE_SYNC: 11111111\n",
      "FIFO_STATUS_REG_0: 00000000\n",
      "FIFO_STATUS_REG_1: 00000000\n",
      "fpga j_sync errs: 4\n",
      "\n",
      "STPL test:\n",
      "converter: 0, sample: 0, tp: 597a, fail: 0\n",
      "converter: 0, sample: 1, tp: b2f3, fail: 0\n",
      "converter: 0, sample: 2, tp: 0c6c, fail: 0\n",
      "converter: 0, sample: 3, tp: 65e5, fail: 0\n",
      "converter: 0, sample: 4, tp: bf5e, fail: 0\n",
      "converter: 0, sample: 5, tp: 18d7, fail: 0\n",
      "converter: 0, sample: 6, tp: 7250, fail: 0\n",
      "converter: 0, sample: 7, tp: cbc9, fail: 0\n",
      "converter: 0, sample: 8, tp: 2542, fail: 0\n",
      "converter: 0, sample: 9, tp: 7ebb, fail: 0\n",
      "converter: 0, sample: 10, tp: d834, fail: 0\n",
      "converter: 0, sample: 11, tp: 31ad, fail: 0\n",
      "converter: 0, sample: 12, tp: 8b26, fail: 0\n",
      "converter: 0, sample: 13, tp: e49f, fail: 0\n",
      "converter: 0, sample: 14, tp: 3e18, fail: 0\n",
      "converter: 0, sample: 15, tp: 9791, fail: 0\n"
     ]
    },
    {
     "data": {
      "text/plain": [
       "0"
      ]
     },
     "execution_count": 9,
     "metadata": {},
     "output_type": "execute_result"
    }
   ],
   "source": [
    "ad.print_irq_flags(True)\n",
    "print()\n",
    "\n",
    "ad.print_ilas()\n",
    "\n",
    "ad.print_lane_status()\n",
    "print()\n",
    "\n",
    "ad.test_stpl()"
   ]
  },
  {
   "cell_type": "markdown",
   "metadata": {},
   "source": [
    "# IQ or real sample waveforms\n",
    "Output can be observed on IQ analyzer / scope."
   ]
  },
  {
   "cell_type": "code",
   "execution_count": 5,
   "metadata": {},
   "outputs": [
    {
     "name": "stdout",
     "output_type": "stream",
     "text": [
      "4096\n"
     ]
    }
   ],
   "source": [
    "# Positive and negative pulse\n",
    "samples = zeros(4096, dtype=int16)\n",
    "samples[100] = 32000\n",
    "samples[140] = -32000\n",
    "\n",
    "# 1 sine wave period over 100 samples\n",
    "sin_data = array(sin(linspace(0, 2 * pi, 100)) * 15000, dtype=int16)\n",
    "samples[200: 200 + len(sin_data)] = sin_data\n",
    "\n",
    "# linear rise over 100 samples\n",
    "lin_data = linspace(-10000, 10000, 100, dtype=int16)\n",
    "samples[400: 400 + len(lin_data)] = lin_data\n",
    "\n",
    "print(len(samples))\n",
    "setSamples(r, samples)"
   ]
  },
  {
   "cell_type": "code",
   "execution_count": 10,
   "metadata": {},
   "outputs": [],
   "source": [
    "wr(0x596, (1 << 3) | (1 << 2))  # Turn ON Transmit enable"
   ]
  },
  {
   "cell_type": "markdown",
   "metadata": {},
   "source": [
    "# Main DDS\n",
    "internal frequency generator. Only works whn in a complex IQ channelizer mode."
   ]
  },
  {
   "cell_type": "code",
   "execution_count": 35,
   "metadata": {},
   "outputs": [
    {
     "name": "stdout",
     "output_type": "stream",
     "text": [
      "DC_CAL_TONE: ff 50 \n",
      "DDSM_FTW: 00 00 00 00 00 32 \n",
      "DDSM_FTW_LOAD_ACK: 1\n"
     ]
    }
   ],
   "source": [
    "# Setup DDSes\n",
    "wr(0x1E6, (1 << 1))             # Enable DDSM_EN_CAL_DC_INPUT (see Fig. 80) (tone on / off)\n",
    "wr(0x112, (1 << 3) | (1 << 2))  # Enable NCO + Modulus\n",
    "wr(0x596, (1 << 3) | (1 << 2))  # Turn ON Transmit enable\n",
    "\n",
    "# setup main DDS frequency and amplitude\n",
    "ad.setTone(1, 1e9, 1, f_ref=5.12e9)"
   ]
  },
  {
   "cell_type": "code",
   "execution_count": 36,
   "metadata": {},
   "outputs": [
    {
     "data": {
      "text/plain": [
       "0"
      ]
     },
     "execution_count": 36,
     "metadata": {},
     "output_type": "execute_result"
    }
   ],
   "source": [
    "# DC test-mode off, enable JESD input\n",
    "ad.ad.wr(0x1e6, 0)"
   ]
  },
  {
   "cell_type": "code",
   "execution_count": 53,
   "metadata": {},
   "outputs": [
    {
     "name": "stdout",
     "output_type": "stream",
     "text": [
      "DDSM_NCO_PHASE_OFFSET: 00 00 \n"
     ]
    }
   ],
   "source": [
    "# Adjust DDS phase offset\n",
    "ad.setTone(1, phase=0)"
   ]
  },
  {
   "cell_type": "markdown",
   "metadata": {},
   "source": [
    "# app layer PRBS 😭\n",
    "couldn't get it working 😠 this feature seems completely undocumented for AD9174 ☹️\n",
    "\n",
    "Use PHY layer PRBS in `gtx_debug.ipynb` instead."
   ]
  },
  {
   "cell_type": "code",
   "execution_count": 60,
   "metadata": {},
   "outputs": [],
   "source": [
    "r.regs.prbs_gen_sample_prbs_en.write(0)"
   ]
  },
  {
   "cell_type": "code",
   "execution_count": 12,
   "metadata": {},
   "outputs": [
    {
     "data": {
      "text/plain": [
       "0"
      ]
     },
     "execution_count": 12,
     "metadata": {},
     "output_type": "execute_result"
    }
   ],
   "source": [
    "r.regs.prbs_gen_sample_prbs_en.read()"
   ]
  },
  {
   "cell_type": "code",
   "execution_count": 79,
   "metadata": {},
   "outputs": [
    {
     "name": "stdout",
     "output_type": "stream",
     "text": [
      "reg 0x14b, PRBS:\n",
      "    bit 7, PRBS_GOOD_Q, R, reset 0x00\n",
      "    DAC1 good data indicator. 1: Correct PRBS sequence detected. 0: Incorrect sequence detected. Sticky; reset to 1 by PRBS_RESET.\n",
      "\n",
      "    bit 6, PRBS_GOOD_I, R, reset 0x00\n",
      "    DAC0 good data indicator. 0: Incorrect sequence detected. Sticky; reset to 1 by PRBS_RESET. 1: Correct PRBS sequence detected.\n",
      "\n",
      "    bit 5, RESERVED, R, reset 0x00\n",
      "    Reserved.\n",
      "\n",
      "    bit 4, PRBS_INV_Q, R/W, reset 0x01\n",
      "    DAC1 data inversion. 0: Expect normal data. 1: Expect inverted data.\n",
      "\n",
      "    bit 3, PRBS_INV_I, R/W, reset 0x00\n",
      "    DAC0 data inversion. 0: Expect normal data. 1: Expect inverted data.\n",
      "\n",
      "    bit 2, PRBS_MODE, R/W, reset 0x00\n",
      "    Select which PRBS polynomial is used for the datapath PRBS test. 0: 7-bit: x7 + x6 + 1. 1: 15-bit: x15 + x14 + 1.\n",
      "\n",
      "    bit 1, PRBS_RESET, R/W, reset 0x00\n",
      "    Reset error counters. 0: Normal operation. 1: Reset counters.\n",
      "\n",
      "    bit 0, PRBS_EN, R/W, reset 0x00\n",
      "    Enable PRBS checker. 0: Disable. 1: Enable.\n",
      "\n"
     ]
    }
   ],
   "source": [
    "ad.ad.help(0x14b)"
   ]
  },
  {
   "cell_type": "code",
   "execution_count": 10,
   "metadata": {},
   "outputs": [
    {
     "name": "stdout",
     "output_type": "stream",
     "text": [
      "0: 00000101, 255, 255\n",
      "1: 00000101, 255, 255\n",
      "2: 00000101, 255, 255\n",
      "3: 11000101,   0,   0\n",
      "4: 11000101,   0,   0\n",
      "5: 11000101,   0,   0\n",
      "6: 00000101, 255, 255\n"
     ]
    }
   ],
   "source": [
    "ad.ad.wr(0x14b, 0b0111)\n",
    "ad.ad.wr(0x14b, 0b0101)\n",
    "\n",
    "for ch in range(7):\n",
    "    ad.ad.wr(0x14e, ch)\n",
    "    print('{:d}: {:08b}, {:3d}, {:3d}'.format(ch, ad.ad.rr(0x14b), ad.ad.rr(0x14c), ad.ad.rr(0x14d)))"
   ]
  },
  {
   "cell_type": "code",
   "execution_count": null,
   "metadata": {},
   "outputs": [],
   "source": []
  }
 ],
 "metadata": {
  "kernelspec": {
   "display_name": "litex",
   "language": "python",
   "name": "litex"
  },
  "language_info": {
   "codemirror_mode": {
    "name": "ipython",
    "version": 3
   },
   "file_extension": ".py",
   "mimetype": "text/x-python",
   "name": "python",
   "nbconvert_exporter": "python",
   "pygments_lexer": "ipython3",
   "version": "3.9.1"
  }
 },
 "nbformat": 4,
 "nbformat_minor": 2
}
