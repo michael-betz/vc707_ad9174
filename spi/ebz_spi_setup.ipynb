{
 "cells": [
  {
   "cell_type": "code",
   "execution_count": 53,
   "metadata": {},
   "outputs": [
    {
     "name": "stdout",
     "output_type": "stream",
     "text": [
      "Populating the interactive namespace from numpy and matplotlib\n"
     ]
    }
   ],
   "source": [
    "%pylab notebook\n",
    "from time import sleep\n",
    "from spi_helper import *\n",
    "sys.path.append(\"../..\")\n",
    "from common import *"
   ]
  },
  {
   "cell_type": "markdown",
   "metadata": {},
   "source": [
    "# Connec to FPGA"
   ]
  },
  {
   "cell_type": "markdown",
   "metadata": {},
   "source": [
    "Start remote litex server first\n",
    "```bash\n",
    "make server\n",
    "```"
   ]
  },
  {
   "cell_type": "code",
   "execution_count": 54,
   "metadata": {
    "scrolled": true
   },
   "outputs": [
    {
     "name": "stdout",
     "output_type": "stream",
     "text": [
      "Connected to Port 1234\n",
      "AD9174 + VC707 test 2020-04-19 23:17:22\n"
     ]
    }
   ],
   "source": [
    "r = conLitexServer('../build/csr.csv')"
   ]
  },
  {
   "cell_type": "markdown",
   "metadata": {},
   "source": [
    "# Play with GTX phy"
   ]
  },
  {
   "cell_type": "code",
   "execution_count": 1045,
   "metadata": {},
   "outputs": [
    {
     "data": {
      "text/plain": [
       "0"
      ]
     },
     "execution_count": 1045,
     "metadata": {},
     "output_type": "execute_result"
    }
   ],
   "source": [
    "# Resets sys and jesd clock domain\n",
    "r.regs.ctrl_reset.write(1)\n",
    "r.regs.ctrl_reset.read()"
   ]
  },
  {
   "cell_type": "markdown",
   "metadata": {},
   "source": [
    "### jesd clock frequency (160 MHz!)"
   ]
  },
  {
   "cell_type": "code",
   "execution_count": 1046,
   "metadata": {},
   "outputs": [
    {
     "name": "stdout",
     "output_type": "stream",
     "text": [
      "160.000384 MHz\n"
     ]
    }
   ],
   "source": [
    "print('{:.6f} MHz'.format(r.regs.crg_f_jesd_value.read() / 1e6))"
   ]
  },
  {
   "cell_type": "code",
   "execution_count": 1163,
   "metadata": {},
   "outputs": [
    {
     "data": {
      "text/plain": [
       "1"
      ]
     },
     "execution_count": 1163,
     "metadata": {},
     "output_type": "execute_result"
    }
   ],
   "source": [
    "# Triggers the GTXInit state machine\n",
    "r.regs.control_enable.write(1)\n",
    "r.regs.control_phy_done.read()"
   ]
  },
  {
   "cell_type": "code",
   "execution_count": 1242,
   "metadata": {},
   "outputs": [],
   "source": [
    "# Transmit a square wave of frequency line_rate / 40\n",
    "on = 1\n",
    "for i in range(4):\n",
    "    getattr(r.regs, 'phy{}_transmitter_produce_square_wave'.format(i)).write(on)"
   ]
  },
  {
   "cell_type": "code",
   "execution_count": 790,
   "metadata": {},
   "outputs": [
    {
     "data": {
      "text/plain": [
       "0"
      ]
     },
     "execution_count": 790,
     "metadata": {},
     "output_type": "execute_result"
    }
   ],
   "source": [
    "# Transmit pseudo random test pattern\n",
    "# 0 = off, 1 = PRBS7 (5, 6), 2 = PRBS15 (13, 14), 3 = PRBS31 (27, 30)\n",
    "r.regs.control_prbs_config.write(0)\n",
    "r.regs.control_prbs_config.read()"
   ]
  },
  {
   "cell_type": "code",
   "execution_count": 208,
   "metadata": {},
   "outputs": [
    {
     "data": {
      "text/plain": [
       "0"
      ]
     },
     "execution_count": 208,
     "metadata": {},
     "output_type": "execute_result"
    }
   ],
   "source": [
    "r.regs.control_stpl_enable.write(0)\n",
    "r.regs.control_stpl_enable.read()"
   ]
  },
  {
   "cell_type": "code",
   "execution_count": 1164,
   "metadata": {},
   "outputs": [
    {
     "data": {
      "text/plain": [
       "0"
      ]
     },
     "execution_count": 1164,
     "metadata": {},
     "output_type": "execute_result"
    }
   ],
   "source": [
    "# AD9174 --> to JESD204BLinkTX, triggers ILAS after CGS\n",
    "r.regs.control_jsync.read()"
   ]
  },
  {
   "cell_type": "code",
   "execution_count": 1165,
   "metadata": {},
   "outputs": [
    {
     "data": {
      "text/plain": [
       "0"
      ]
     },
     "execution_count": 1165,
     "metadata": {},
     "output_type": "execute_result"
    }
   ],
   "source": [
    "r.regs.control_ready.read()"
   ]
  },
  {
   "cell_type": "markdown",
   "metadata": {},
   "source": [
    "# Setup AD9174"
   ]
  },
  {
   "cell_type": "code",
   "execution_count": 55,
   "metadata": {},
   "outputs": [
    {
     "name": "stdout",
     "output_type": "stream",
     "text": [
      "reg PLL_STATUS (7b5) already exist (281)\n"
     ]
    }
   ],
   "source": [
    "ad = AdSpi(r)"
   ]
  },
  {
   "cell_type": "markdown",
   "metadata": {},
   "source": [
    "## General init"
   ]
  },
  {
   "cell_type": "code",
   "execution_count": 1157,
   "metadata": {},
   "outputs": [
    {
     "name": "stdout",
     "output_type": "stream",
     "text": [
      "AD917X_NVM_BLR_DONE: 1\n",
      "PROD_ID: 0x9174\n",
      "PROD_GRADE: 0  DEV_REVISION: 5\n"
     ]
    }
   ],
   "source": [
    "# Power up sequence, Table 51\n",
    "ad.wr(0x000, 0x81)  # Soft reset\n",
    "ad.wr(0x000, 0x3C)  # 4 - wire SPI mode + ADDRINC\n",
    "\n",
    "ad.wr(0x091, 0x00)  # Power up clock RX\n",
    "ad.wr(0x206, 0x01)  # Enable PHYs\n",
    "ad.wr(0x705, 0x01)  # LOAD NVRAM FACTORY SETTINGS\n",
    "ad.wr(0x090, 0x00)  # Power on DACs and bias supply\n",
    "print('AD917X_NVM_BLR_DONE:', (ad.rr(0x705) >> 1) & 1)\n",
    "\n",
    "# Print product ID (0x9174)\n",
    "val = ad.rr('SPI_PRODIDH') << 8 | ad.rr('SPI_PRODIDL')\n",
    "print('PROD_ID: 0x{:04x}'.format(val))\n",
    "val = ad.rr('SPI_CHIPGRADE')\n",
    "print('PROD_GRADE: {:x}  DEV_REVISION: {:x}'.format(val >> 8, val & 0xF))"
   ]
  },
  {
   "cell_type": "code",
   "execution_count": 1158,
   "metadata": {},
   "outputs": [
    {
     "name": "stdout",
     "output_type": "stream",
     "text": [
      "DLL locked: 1\n",
      "SPI_PAGEINDX: 0b01000001\n",
      "CAL_STAT: 1\n"
     ]
    },
    {
     "data": {
      "text/plain": [
       "0"
      ]
     },
     "execution_count": 1158,
     "metadata": {},
     "output_type": "execute_result"
    }
   ],
   "source": [
    "ad.wr(0x100, 0x01)  # Put digital datapath in reset\n",
    "\n",
    "# Disable DAC PLL and config for external clock, Table 52\n",
    "ad.wr(0x095, 0x01)\n",
    "ad.wr(0x790, 0xFF)  # DACPLL_POWER_DOWN\n",
    "ad.wr(0x791, 0x1F)\n",
    "\n",
    "# ADC clock output divider = /4\n",
    "#   0: Divide by 1\n",
    "#   1: Divide by 2\n",
    "#   2: Divide by 3\n",
    "#   3: Divide by 4\n",
    "BIT_ADC_CLK_DIVIDER = 6\n",
    "ad.wr(0x799, (3 << BIT_ADC_CLK_DIVIDER) | 8)\n",
    "\n",
    "# Delay Lock Loop (DLL) Configuration\n",
    "ad.wr(0x0C0, 0x00)  # Power-up delay line.\n",
    "ad.wr(0x0DB, 0x00)  # Update DLL settings to circuitry.\n",
    "ad.wr(0x0DB, 0x01)\n",
    "ad.wr(0x0DB, 0x00)\n",
    "ad.wr(0x0C1, 0x68)  # set search mode for f_DAC > 4.5 GHz\n",
    "ad.wr(0x0C1, 0x69)  # set DLL_ENABLE\n",
    "ad.wr(0x0C7, 0x01)  # Enable DLL read status.\n",
    "print('DLL locked:', ad.rr(0x0C3))\n",
    "\n",
    "ad.wr(0x008, (0b01 << 6) | 0b000001)  # Select first DAC and first channel\n",
    "print('SPI_PAGEINDX: 0b{:08b}'.format(ad.rr('SPI_PAGEINDX')))\n",
    "\n",
    "# Magic numbers from Table 54 (calibration)\n",
    "ad.wr(0x050, 0x2A)\n",
    "ad.wr(0x061, 0x68)\n",
    "ad.wr(0x051, 0x82)\n",
    "ad.wr(0x051, 0x83)\n",
    "print('CAL_STAT:', ad.rr(0x052))  # 1 = success\n",
    "ad.wr(0x081, 0x03)  # Power down calibration clocks"
   ]
  },
  {
   "cell_type": "markdown",
   "metadata": {},
   "source": [
    "## JESD init"
   ]
  },
  {
   "cell_type": "markdown",
   "metadata": {},
   "source": [
    "on `AD9172_FMC_EBZ` GT lanes 0 - 3 are of __inverted__ polarity!\n",
    "But this has been taken into account in the bit-file."
   ]
  },
  {
   "cell_type": "code",
   "execution_count": 1159,
   "metadata": {},
   "outputs": [
    {
     "name": "stdout",
     "output_type": "stream",
     "text": [
      "data rate 160.0 MSps,  lane rate 1600.0 MBps\n",
      "MODE_NOT_IN_TABLE: 0\n"
     ]
    },
    {
     "data": {
      "text/plain": [
       "0"
      ]
     },
     "execution_count": 1159,
     "metadata": {},
     "output_type": "execute_result"
    }
   ],
   "source": [
    "L = 4\n",
    "M = 2\n",
    "F = 4\n",
    "S = 1\n",
    "NP = 16\n",
    "N = 16\n",
    "data_rate = 5.12e9 / 8 / 4\n",
    "lane_rate = M / L * NP * 10 / 8 * data_rate\n",
    "print('data rate {} MSps,  lane rate {} MBps'.format(data_rate / 1e6, lane_rate / 1e6))\n",
    "\n",
    "# JESD config, Table 55\n",
    "ad.wr(0x201, 0x00)  # Power down no PHYs\n",
    "ad.wr(0x100, 0x00)  # Power up digital datapath clocks\n",
    "ad.wr(0x110, (0 << 5) | 0)  # JESD_MODE: Single link, mode 0\n",
    "\n",
    "# Mode 0 (L = 1, M = 2, F = 4, S = 1, NP = 16, N = 16)\n",
    "# 1 lane, 2 converters (I0, Q0), 4 byte / frame, 1 sample / frame, 16 bit \n",
    "# 32 bit / frame = 1 sample, 128 MSps from FPGA, DAC at 4.096 GSps? \n",
    "\n",
    "ad.wr(0x111, 0x84)   # DP_INTERP_MODE = 8x, CH_INTERP_MODE = 4x\n",
    "print('MODE_NOT_IN_TABLE:', (ad.rr(0x110) >> 7) & 0x01)\n",
    "\n",
    "ad.wr(0x084, 1)  # SYSREF_PD: Power down sysref reciever, we run subclass 0\n",
    "ad.wr(0x300, 0b0001)  # select single link, page link0, enable link0\n",
    "ad.wr(0x475, 0x09)  # Soft reset the JESD204B quad-byte deframer\n",
    "ad.wr(0x453, (0 << 7) | (L - 1))  # disable scrambler, L-value - 1\n",
    "ad.wr(0x454, (F - 1))\n",
    "ad.wr(0x456, (M - 1))\n",
    "ad.wr(0x457, (N - 1))\n",
    "ad.wr(0x458, (0 << 5) | (NP - 1)) # subclass 0, NP-value - 1\n",
    "ad.wr(0x459, (S - 1)) # Version = JESD204A, samples per converter per frame cycle (minus 1)\n",
    "\n",
    "ad.wr(0x475, 1)  # Bring the JESD204B quad-byte deframer out of reset.\n",
    "\n",
    "# Table 56: skipped as Channel interpolation mode = 1x"
   ]
  },
  {
   "cell_type": "code",
   "execution_count": 650,
   "metadata": {},
   "outputs": [
    {
     "name": "stdout",
     "output_type": "stream",
     "text": [
      "reg 0x280, PLL_ENABLE_CTRL:\n",
      "    bit 7:3, RESERVED, R, reset 0x00\n",
      "    Reserved.\n",
      "\n",
      "    bit 2, LOLSTICKYCLEAR_LCPLL_RC, R/W, reset 0x00\n",
      "    Clears out loss of lock bit.\n",
      "\n",
      "    bit 1, LDSYNTH_LCPLL_RC, R/W, reset 0x00\n",
      "    Pulse high to start VCO calibration (without restarting the regulator or remeasuring the temperature).\n",
      "\n",
      "    bit 0, SERDES_PLL_STARTUP, R/W, reset 0x01\n",
      "    SERDES circuitry blocks are powered off when this bit is set to 0. Set this bit to 1 at the end of the SERDES configuration writes. When this bit is set to 1, it powers up the SERDES PLL blocks and starts the LDO and calibration routine to lock the PLL auto- matically to the appropriate lane rate based on the JESD204B mode and interpolation options programmed in the device. The SERDES_PLL_LOCK bit (Register 0x281, Bit 0) reads 1 when the PLL achieves lock.\n",
      "\n"
     ]
    }
   ],
   "source": [
    "ad.help(0x280)"
   ]
  },
  {
   "cell_type": "code",
   "execution_count": 1205,
   "metadata": {},
   "outputs": [
    {
     "name": "stdout",
     "output_type": "stream",
     "text": [
      "SERDES PLL locked: 1\n"
     ]
    }
   ],
   "source": [
    "ad.wr(0x280, 0x00)  # enable serdes PLL\n",
    "\n",
    "# EQ settings for < 11 dB insertion loss\n",
    "ad.wr(0x240, 0xAA)\n",
    "ad.wr(0x241, 0xAA)\n",
    "ad.wr(0x242, 0x55)\n",
    "ad.wr(0x243, 0x55)\n",
    "ad.wr(0x244, 0x1F)\n",
    "ad.wr(0x245, 0x1F)\n",
    "ad.wr(0x246, 0x1F)\n",
    "ad.wr(0x247, 0x1F)\n",
    "ad.wr(0x248, 0x1F)\n",
    "ad.wr(0x249, 0x1F)\n",
    "ad.wr(0x24A, 0x1F)\n",
    "ad.wr(0x24B, 0x1F)\n",
    "\n",
    "ad.wr(0x201, 0x00)\n",
    "# ad.wr(0x201, 0xF0)  # Power down the unused upper 4 PHYs\n",
    "\n",
    "# ad.wr(0x203, 0x01)  # Power down sync1\n",
    "# ad.wr(0x253, 0x01)  # Sync0 = LVDS\n",
    "# ad.wr(0x254, 0x01)  # Sync1 = LVDS\n",
    "\n",
    "# SERDES required register write.\n",
    "ad.wr(0x200, 0x01)  # Power down the SERDES blocks.\n",
    "ad.wr(0x210, 0x16)\n",
    "ad.wr(0x216, 0x05)\n",
    "ad.wr(0x212, 0xFF)\n",
    "ad.wr(0x212, 0x00)\n",
    "ad.wr(0x210, 0x87)\n",
    "ad.wr(0x210, 0x87)\n",
    "ad.wr(0x216, 0x11)\n",
    "ad.wr(0x213, 0x01)\n",
    "ad.wr(0x213, 0x00)\n",
    "ad.wr(0x200, 0x00)  # Power up the SERDES circuitry blocks.\n",
    "sleep(0.1)\n",
    "\n",
    "# SERDES required register write.\n",
    "ad.wr(0x210, 0x86)\n",
    "ad.wr(0x216, 0x40)\n",
    "ad.wr(0x213, 0x01)\n",
    "ad.wr(0x213, 0x00)\n",
    "ad.wr(0x210, 0x86)\n",
    "ad.wr(0x216, 0x00)\n",
    "ad.wr(0x213, 0x01)\n",
    "ad.wr(0x213, 0x00)\n",
    "ad.wr(0x210, 0x87)\n",
    "ad.wr(0x216, 0x01)\n",
    "ad.wr(0x213, 0x01)\n",
    "ad.wr(0x213, 0x00)\n",
    "ad.wr(0x280, 0x05)\n",
    "# Start up SERDES PLL circuitry blocks and initiate SERDES PLL calibration.\n",
    "ad.wr(0x280, 0x01)\n",
    "print('SERDES PLL locked:', ad.rr(0x281) & 0x01)\n",
    "\n",
    "# ad.wr(0x03B, 0xF1)  # Enable the sync logic, and set the rotation mode to reset the synchronization logic upon a sync reset trigger.\n",
    "# ad.wr(0x03A, 0x02)  # Set up sync for one-shot sync mode.\n",
    "# ad.wr(0x300, 0b0001)  # select single link, page link0, enable link0"
   ]
  },
  {
   "cell_type": "markdown",
   "metadata": {},
   "source": [
    "# PHY snapshot"
   ]
  },
  {
   "cell_type": "code",
   "execution_count": null,
   "metadata": {},
   "outputs": [],
   "source": [
    "r.regs.phy0_transmitter_tp_on"
   ]
  },
  {
   "cell_type": "code",
   "execution_count": 57,
   "metadata": {},
   "outputs": [],
   "source": [
    "# Transmit a square wave of frequency line_rate / 40\n",
    "on = 1\n",
    "for i in range(8):\n",
    "    getattr(r.regs, 'phy{}_transmitter_tp_on'.format(i)).write(on)"
   ]
  },
  {
   "cell_type": "code",
   "execution_count": 1418,
   "metadata": {},
   "outputs": [
    {
     "data": {
      "text/plain": [
       "0"
      ]
     },
     "execution_count": 1418,
     "metadata": {},
     "output_type": "execute_result"
    }
   ],
   "source": [
    "# Transmit pseudo random test pattern\n",
    "# 0 = off, 1 = PRBS7 (5, 6), 2 = PRBS15 (13, 14), 3 = PRBS31 (27, 30)\n",
    "r.regs.control_prbs_config.write(0)\n",
    "r.regs.control_prbs_config.read()"
   ]
  },
  {
   "cell_type": "code",
   "execution_count": 1407,
   "metadata": {},
   "outputs": [],
   "source": [
    "# generate a PRBS7 bit-pattern to compare against\n",
    "a = 2\n",
    "for i in range(255):\n",
    "    nb = (((a >> 6) ^ (a >> 5)) & 1)\n",
    "    a = ((a << 1) | nb)\n",
    "prbs7_str = \"{:b}\".format(a)\n",
    "prbs7_str_inv = \"{:b}\".format(a ^ (2**256 - 1))"
   ]
  },
  {
   "cell_type": "code",
   "execution_count": 65,
   "metadata": {},
   "outputs": [
    {
     "name": "stdout",
     "output_type": "stream",
     "text": [
      "PHY_SNAPSHOT_DATA:\n",
      "0: 0x0000fffff0, 0b0000000000000000111111111111111111110000, \n",
      "1: 0x7ffff00000, 0b0111111111111111111100000000000000000000, \n",
      "2: 0x7ffff80000, 0b0111111111111111111110000000000000000000, \n",
      "3: 0xfff800007f, 0b1111111111111000000000000000000001111111, \n",
      "4: 0xff800007ff, 0b1111111110000000000000000000011111111111, \n",
      "5: 0xffff00000f, 0b1111111111111111000000000000000000001111, \n",
      "6: 0x0001ffffe0, 0b0000000000000001111111111111111111100000, \n",
      "7: 0xfe00001fff, 0b1111111000000000000000000001111111111111, \n"
     ]
    }
   ],
   "source": [
    "ad.wr('PHY_PRBS_TEST_EN', 0xFF)  # Needed: clock to test module\n",
    "ad.wr('PHY_PRBS_TEST_CTRL', 0b01)  # rst\n",
    "\n",
    "print('PHY_SNAPSHOT_DATA:')\n",
    "for lane in range(8):\n",
    "    ad.wr('PHY_PRBS_TEST_CTRL', (lane << 4))    \n",
    "    ad.wr('PHY_DATA_SNAPSHOT_CTRL', 0x01)\n",
    "    ad.wr('PHY_DATA_SNAPSHOT_CTRL', 0x00)\n",
    "    val = 0\n",
    "    for i in range(5):\n",
    "        val = (val << 8) | ad.rr(0x323 - i)\n",
    "    bVal = '{:040b}'.format(val)\n",
    "    desc = ''\n",
    "    if bVal.find('00111110101100000101') >= 0:\n",
    "        desc = ','\n",
    "    elif prbs7_str.find(bVal) >= 0:\n",
    "        desc = 'PRBS7'\n",
    "    elif prbs7_str_inv.find(bVal) >= 0:\n",
    "        desc = '/PRBS7'\n",
    "    print('{0:}: 0x{1:010x}, 0b{2:}, {3:}'.format(lane, val, bVal, desc))"
   ]
  },
  {
   "cell_type": "markdown",
   "metadata": {},
   "source": [
    "Lane 4 - 7 seem to show commas sometimes!"
   ]
  },
  {
   "cell_type": "markdown",
   "metadata": {},
   "source": [
    "`K28.5` = 0011111010 / 1100000101 "
   ]
  },
  {
   "cell_type": "markdown",
   "metadata": {},
   "source": [
    "# PRBS check"
   ]
  },
  {
   "cell_type": "code",
   "execution_count": 1422,
   "metadata": {},
   "outputs": [
    {
     "name": "stdout",
     "output_type": "stream",
     "text": [
      "PHY_PRBS_TEST_STATUS: 10000000 (high = pass)\n",
      "lane: 0, err_cnt: 88b5e4\n",
      "lane: 1, err_cnt: 88b5e4\n",
      "lane: 2, err_cnt: 88b5e4\n",
      "lane: 3, err_cnt: 88b5e4\n",
      "lane: 4, err_cnt: 88b5e4\n",
      "lane: 5, err_cnt: 88b5e4\n",
      "lane: 6, err_cnt: 88b5e4\n",
      "lane: 7, err_cnt: 000000\n"
     ]
    }
   ],
   "source": [
    "prbs = 0  # 0: PRBS7, 1: PRBS15, 2: PRBS31\n",
    "ad.wr('PHY_PRBS_TEST_CTRL', (prbs << 2) | 0b00)\n",
    "ad.wr('PHY_PRBS_TEST_EN', 0xFF)  # Enable test for all lanes\n",
    "ad.wr('PHY_PRBS_TEST_CTRL', (prbs << 2) | 0b01)  # rst\n",
    "ad.wr('PHY_PRBS_TEST_CTRL', (prbs << 2) | 0b00)\n",
    "ad.wr('PHY_PRBS_TEST_THRESHOLD_LOBITS', 0xFF)  # error threshold\n",
    "\n",
    "ad.wr('PHY_PRBS_TEST_CTRL', (prbs << 2) | 0b10)  # start test\n",
    "sleep(0.01)\n",
    "ad.wr('PHY_PRBS_TEST_CTRL', (prbs << 2) | 0b00)  # stop test\n",
    "\n",
    "print('PHY_PRBS_TEST_STATUS: {:08b} (high = pass)'.format(ad.rr('PHY_PRBS_TEST_STATUS')))\n",
    "for lane in range(8):\n",
    "    ad.wr('PHY_PRBS_TEST_CTRL', (lane << 4) | (prbs << 2) | 0b00)  # read-out lane X\n",
    "    err_cnt = ad.rr('PHY_PRBS_TEST_ERRCNT_HIBITS') << 16 | \\\n",
    "              ad.rr('PHY_PRBS_TEST_ERRCNT_MIDBITS') << 8 | \\\n",
    "              ad.rr('PHY_PRBS_TEST_ERRCNT_LOBITS')\n",
    "    print('lane: {}, err_cnt: {:06x}'.format(lane, err_cnt))"
   ]
  },
  {
   "cell_type": "markdown",
   "metadata": {},
   "source": [
    "# Setup for internal PRBS check"
   ]
  },
  {
   "cell_type": "code",
   "execution_count": 1420,
   "metadata": {},
   "outputs": [
    {
     "data": {
      "text/plain": [
       "0"
      ]
     },
     "execution_count": 1420,
     "metadata": {},
     "output_type": "execute_result"
    }
   ],
   "source": [
    "ad.wr(0x240, 0)\n",
    "ad.wr(0x241, 0)\n",
    "# ad.wr('CDR_BITINVERSE', 0x00)\n",
    "ad.wr('LBT_REG_CNTRL_0', 0xFF)  # enable loopback for lane X\n",
    "halfrate = 0  # 1: enable halfrate mode (keep off!)\n",
    "ad.wr('LBT_REG_CNTRL_1', (halfrate << 1) | 1)\n",
    "ad.wr('LBT_REG_CNTRL_1', halfrate << 1)"
   ]
  },
  {
   "cell_type": "code",
   "execution_count": 338,
   "metadata": {},
   "outputs": [
    {
     "data": {
      "text/plain": [
       "0"
      ]
     },
     "execution_count": 338,
     "metadata": {},
     "output_type": "execute_result"
    }
   ],
   "source": [
    "ad.rr(0x201)"
   ]
  },
  {
   "cell_type": "markdown",
   "metadata": {},
   "source": [
    "# Setup HMC7044\n",
    "  * External VCO input\n",
    "  * clkout12 = f_vco / 8 = 160 MHz"
   ]
  },
  {
   "cell_type": "code",
   "execution_count": 1038,
   "metadata": {},
   "outputs": [],
   "source": [
    "hmc = HmcSpi(r)\n",
    "\n",
    "hmc.wr(0x000, 1)  # reset\n",
    "hmc.wr(0x000, 0)\n",
    "\n",
    "hmc.wr(0x054, 0)  # Disable SDATA driver (uni-direct. buffer)\n",
    "hmc.wr(0x001, (1 << 6) | (1 << 5)) # High performance dividers / PLL\n",
    "\n",
    "# VCO Selection\n",
    "# 0 Internal disabled/external\n",
    "# 1 High\n",
    "# 2 Low\n",
    "VCO_SELECT = 3\n",
    "hmc.wr(0x003, (0 << VCO_SELECT))\n",
    "\n",
    "# Enable output channel 12 and 13\n",
    "hmc.wr(0x004, (1 << (12 // 2)))\n",
    "\n",
    "# clkin1 as external VCO input\n",
    "hmc.wr(0x005, (1 << 5))\n",
    "\n",
    "# Magic numbers from datasheet Table 74\n",
    "hmc.wr(0x09F, 0x4D)\n",
    "hmc.wr(0x0A0, 0xDF)\n",
    "hmc.wr(0x0A5, 0x06)\n",
    "hmc.wr(0x0A8, 0x06)\n",
    "hmc.wr(0x0B0, 0x04)\n",
    "\n",
    "hmc.setupChannel(12, 8)  # DEV_CLK = 160 MHz\n",
    "hmc.setupChannel(13, 80)  # SYSREF2 = 16 MHz"
   ]
  },
  {
   "cell_type": "markdown",
   "metadata": {},
   "source": [
    "### Check jesd clock at FPGA (160 MHz)"
   ]
  },
  {
   "cell_type": "code",
   "execution_count": 1032,
   "metadata": {},
   "outputs": [
    {
     "data": {
      "text/plain": [
       "213333849"
      ]
     },
     "execution_count": 1032,
     "metadata": {},
     "output_type": "execute_result"
    }
   ],
   "source": [
    "r.regs.crg_f_jesd_value.read()"
   ]
  },
  {
   "cell_type": "code",
   "execution_count": null,
   "metadata": {},
   "outputs": [],
   "source": [
    "r.close()"
   ]
  }
 ],
 "metadata": {
  "kernelspec": {
   "display_name": "Python 3",
   "language": "python",
   "name": "python3"
  },
  "language_info": {
   "codemirror_mode": {
    "name": "ipython",
    "version": 3
   },
   "file_extension": ".py",
   "mimetype": "text/x-python",
   "name": "python",
   "nbconvert_exporter": "python",
   "pygments_lexer": "ipython3",
   "version": "3.5.3"
  }
 },
 "nbformat": 4,
 "nbformat_minor": 2
}
