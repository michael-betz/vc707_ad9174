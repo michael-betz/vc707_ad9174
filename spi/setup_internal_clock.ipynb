{
 "cells": [
  {
   "cell_type": "markdown",
   "metadata": {},
   "source": [
    "# init AD9174 for use with on board reference\n",
    "This example uses the `HMC7044` and the 122.88 MHz reference oscillator on the `AD9174-FMC_EBZ` board to generate a DAC sampling clock. No external clock needed.\n",
    "\n",
    "Requires litex_server running and connected to the VC707 USB-uart port:\n",
    "\n",
    "```bash\n",
    "litex_server --uart --uart-port /dev/ttyUSB0 --uart-baudrate 115200\n",
    "\n",
    "```"
   ]
  },
  {
   "cell_type": "code",
   "execution_count": 1,
   "metadata": {},
   "outputs": [],
   "source": [
    "import sys\n",
    "from numpy import *\n",
    "from time import sleep\n",
    "from litex import RemoteClient\n",
    "from ad9174 import Ad9174Settings, Ad9174Init\n",
    "\n",
    "def getId(r):\n",
    "    s = \"\"\n",
    "    for i in range(64):\n",
    "        temp = r.read(r.bases.identifier_mem + i * 4)\n",
    "        if temp == 0:\n",
    "            break\n",
    "        s += chr(temp & 0xFF)\n",
    "    return s"
   ]
  },
  {
   "cell_type": "code",
   "execution_count": 2,
   "metadata": {},
   "outputs": [
    {
     "data": {
      "text/plain": [
       "'AD9174 + VC707 test 2021-02-22 11:39:46'"
      ]
     },
     "execution_count": 2,
     "metadata": {},
     "output_type": "execute_result"
    }
   ],
   "source": [
    "r = RemoteClient(csr_csv='../build/csr.csv', debug=False, port=1234)\n",
    "r.open()\n",
    "getId(r)"
   ]
  },
  {
   "cell_type": "code",
   "execution_count": 3,
   "metadata": {},
   "outputs": [
    {
     "name": "stdout",
     "output_type": "stream",
     "text": [
      "----------------\n",
      " JESD mode 20\n",
      "----------------\n",
      "INTERP_CH: 1  INTERP_MAIN: 1  DSP_CLK_DIV: 16\n",
      "JESD204BSettings(): 5a 05 00 87 00 1f 00 0f 2f 23 80 00 00 e6 \n",
      "         DID:  90        BID:   5     ADJCNT:   0        LID:   0 \n",
      "       PHADJ:   0     ADJDIR:   0          L:   8        SCR:   1 \n",
      "           F:   1          K:  32          M:   1          N:  16 \n",
      "          CS:   0         NP:  16  SUBCLASSV:   1          S:   4 \n",
      "       JESDV:   1         CF:   0         HD:   1       RES1:   0 \n",
      "        RES2:   0       FCHK: 230 \n",
      "   [ LINK_DW:  32     FR_CLK:   4 ]\n"
     ]
    }
   ],
   "source": [
    "settings = Ad9174Settings(json_file='../build/csr.json')\n",
    "print(settings)"
   ]
  },
  {
   "cell_type": "code",
   "execution_count": 4,
   "metadata": {},
   "outputs": [],
   "source": [
    "ad = Ad9174Init(r, settings)\n",
    "wr = ad.ad.wr\n",
    "rr = ad.ad.rr"
   ]
  },
  {
   "cell_type": "markdown",
   "metadata": {},
   "source": [
    "# 0. setup clocking\n",
    "See here for the clock planning:\n",
    "https://docs.google.com/spreadsheets/d/1F6s6cVM1Lo6IOUgZoq9xm0ueGYkePZFeD96N0-kPR9o/edit?usp=sharing"
   ]
  },
  {
   "cell_type": "code",
   "execution_count": 5,
   "metadata": {},
   "outputs": [
    {
     "name": "stdout",
     "output_type": "stream",
     "text": [
      "Expected values:\n",
      " f_VCO: 2457.600 MHz\n",
      "f_jesd:  307.200 MHz\n",
      " f_ref:    1.920 MHz\n"
     ]
    }
   ],
   "source": [
    "N_HMC = 20\n",
    "f_VCO2 = 122.88e6 * N_HMC\n",
    "ad.hmc.init_hmc7044_int(N2=N_HMC)\n",
    "\n",
    "DIV_DAC = 2\n",
    "DIV_DSP = 8\n",
    "ad.hmc.setup_channel( 2, DIV_DAC)  # Clock to the AD9174\n",
    "ad.hmc.setup_channel(12, DIV_DSP)  # DSP clock divider to the FPGA\n",
    "\n",
    "# SYSREF must align with the multiframe clock and the DSP clock!\n",
    "# FPGA generates 4 frames / DSP clock\n",
    "# DAC expects k = 32 frames / multiframe \n",
    "# --> lmfc_cycles = 8 DSP clocks / multiframe\n",
    "DIV_SYSREF = DIV_DSP * 8 * 20\n",
    "ad.hmc.setup_channel( 3, DIV_SYSREF)  # SYSREF to AD9174\n",
    "ad.hmc.setup_channel(13, DIV_SYSREF)  # SYSREF to FPGA\n",
    "ad.hmc.trigger_div_reset()\n",
    "\n",
    "print(\"Expected values:\")\n",
    "print(f' f_VCO: {f_VCO2 / 1e6:8.3f} MHz')\n",
    "print(f'f_jesd: {f_VCO2 / DIV_DSP / 1e6:8.3f} MHz')\n",
    "print(f' f_ref: {f_VCO2 / DIV_SYSREF / 1e6:8.3f} MHz')"
   ]
  },
  {
   "cell_type": "code",
   "execution_count": 6,
   "metadata": {},
   "outputs": [
    {
     "name": "stdout",
     "output_type": "stream",
     "text": [
      "Measured values:\n",
      "f_jesd = 307.197606 MHz  f_ref = 1.919985 MHz\n"
     ]
    }
   ],
   "source": [
    "print(\"Measured values:\")\n",
    "ad.fpga_print_clocks()"
   ]
  },
  {
   "cell_type": "markdown",
   "metadata": {},
   "source": [
    "# 1. init AD9174"
   ]
  },
  {
   "cell_type": "code",
   "execution_count": 7,
   "metadata": {},
   "outputs": [
    {
     "name": "stdout",
     "output_type": "stream",
     "text": [
      "AD917X_NVM_BLR_DONE: 1\n",
      "PROD_ID: 0x9174\n",
      "PROD_GRADE: 0  DEV_REVISION: 5\n",
      "DAC PLL locked: 1\n",
      "DLL locked: 1\n",
      "SPI_PAGEINDX: 0b01000001\n",
      "CAL_STAT: 1\n",
      "SERDES PLL locked: 1\n",
      "MODE_NOT_IN_TABLE: 0\n"
     ]
    }
   ],
   "source": [
    "ad.init_ad9174(ADC_CLK_DIV=4, SYSREF_ERR_WINDOW=1, USE_PLL=True, M_DIV=2, N_DIV=2, OUT_DIV=2)"
   ]
  },
  {
   "cell_type": "markdown",
   "metadata": {},
   "source": [
    "# 3. Init the FPGA side"
   ]
  },
  {
   "cell_type": "code",
   "execution_count": 52,
   "metadata": {},
   "outputs": [
    {
     "name": "stdout",
     "output_type": "stream",
     "text": [
      "status: 000\n"
     ]
    }
   ],
   "source": [
    "# r.regs.ctrl_reset.write(1)  # resets ALL clockdomains (HARSH! But sometimes needed.)\n",
    "r.regs.control_control.write(0b01)  # resets PHYs and jesd core\n",
    "\n",
    "print('status: {:03b}'.format(r.regs.control_status.read()))"
   ]
  },
  {
   "cell_type": "code",
   "execution_count": 53,
   "metadata": {},
   "outputs": [
    {
     "name": "stdout",
     "output_type": "stream",
     "text": [
      "status: 111\n"
     ]
    }
   ],
   "source": [
    "# bit1: links_enable,  bit0: phys_reset\n",
    "r.regs.control_control.write(0b10)\n",
    "# bit2: /jsync,  bit1: links_ready,  bit0: phys_ready\n",
    "print('status: {:03b}'.format(r.regs.control_status.read()))"
   ]
  },
  {
   "cell_type": "code",
   "execution_count": 55,
   "metadata": {},
   "outputs": [
    {
     "data": {
      "text/plain": [
       "236500426"
      ]
     },
     "execution_count": 55,
     "metadata": {},
     "output_type": "execute_result"
    }
   ],
   "source": [
    "# This number should not increase when the link is up\n",
    "r.regs.control_jsync_errors.read()"
   ]
  },
  {
   "cell_type": "markdown",
   "metadata": {},
   "source": [
    "if you get `status: 111` and the `jsync_errors` number does not increase, then the link is up and you're in business!!!"
   ]
  },
  {
   "cell_type": "code",
   "execution_count": 56,
   "metadata": {},
   "outputs": [
    {
     "name": "stdout",
     "output_type": "stream",
     "text": [
      "SYNC_ROTATION_DONE 1\n",
      "DYN_LINK_LATENCY  2 cycles\n",
      "😃\n"
     ]
    }
   ],
   "source": [
    "ad.trigger_jref_sync()\n",
    "ad.print_irq_flags(True, True)\n",
    "if ad.print_irq_flags(True):\n",
    "    print('😭')\n",
    "else:\n",
    "    print('😃')"
   ]
  },
  {
   "cell_type": "markdown",
   "metadata": {},
   "source": [
    "# 4. Test link"
   ]
  },
  {
   "cell_type": "code",
   "execution_count": 51,
   "metadata": {},
   "outputs": [
    {
     "name": "stdout",
     "output_type": "stream",
     "text": [
      "\n",
      "JESD settings, received on lane 0 vs (programmed):\n",
      "450: 5a (5a)\n",
      "451: 05 (05)\n",
      "452: 00 (00)\n",
      "453: 87 (87)\n",
      "454: 00 (00)\n",
      "455: 1f (1f)\n",
      "456: 00 (00)\n",
      "457: 0f (0f)\n",
      "458: 2f (2f)\n",
      "459: 23 (23)\n",
      "45a: 80 (80)\n",
      "45b: 00 (00)\n",
      "45c: 00 (00)\n",
      "45d: e6 (e6)\n",
      "CHK: e6 (e6) \n",
      "\n",
      "Lane status:\n",
      "      LANE_DESKEW: 11111111\n",
      "    BAD_DISPARITY: 00000000\n",
      "     NOT_IN_TABLE: 00000000\n",
      " UNEXPECTED_KCHAR: 00000000\n",
      "    CODE_GRP_SYNC: 11111111\n",
      "       FRAME_SYNC: 11111111\n",
      "    GOOD_CHECKSUM: 11111111\n",
      "   INIT_LANE_SYNC: 11111111\n",
      "FIFO_STATUS_REG_0: 00000000\n",
      "FIFO_STATUS_REG_1: 00000000\n",
      "fpga j_sync errs: 236500425\n",
      "\n",
      "STPL test:\n",
      "converter: 0, sample: 0, tp: 597a, fail: 0\n",
      "converter: 0, sample: 1, tp: b2f3, fail: 0\n",
      "converter: 0, sample: 2, tp: 0c6c, fail: 0\n",
      "converter: 0, sample: 3, tp: 65e5, fail: 0\n",
      "converter: 0, sample: 4, tp: bf5e, fail: 0\n",
      "converter: 0, sample: 5, tp: 18d7, fail: 0\n",
      "converter: 0, sample: 6, tp: 7250, fail: 0\n",
      "converter: 0, sample: 7, tp: cbc9, fail: 0\n",
      "converter: 0, sample: 8, tp: 2542, fail: 0\n",
      "converter: 0, sample: 9, tp: 7ebb, fail: 0\n",
      "converter: 0, sample: 10, tp: d834, fail: 0\n",
      "converter: 0, sample: 11, tp: 31ad, fail: 0\n",
      "converter: 0, sample: 12, tp: 8b26, fail: 0\n",
      "converter: 0, sample: 13, tp: e49f, fail: 0\n",
      "converter: 0, sample: 14, tp: 3e18, fail: 0\n",
      "converter: 0, sample: 15, tp: 9791, fail: 0\n"
     ]
    },
    {
     "data": {
      "text/plain": [
       "0"
      ]
     },
     "execution_count": 51,
     "metadata": {},
     "output_type": "execute_result"
    }
   ],
   "source": [
    "ad.print_irq_flags(True)\n",
    "print()\n",
    "\n",
    "ad.print_ilas()\n",
    "\n",
    "ad.print_lane_status()\n",
    "print()\n",
    "\n",
    "ad.test_stpl()"
   ]
  },
  {
   "cell_type": "markdown",
   "metadata": {},
   "source": [
    "# Write IQ sample waveforms\n",
    "Check DAC output on a spectrum analyzer / scope."
   ]
  },
  {
   "cell_type": "code",
   "execution_count": null,
   "metadata": {},
   "outputs": [],
   "source": [
    "wr(0x596, (1 << 3) | (1 << 2))  # Turn ON Transmit enable"
   ]
  },
  {
   "cell_type": "code",
   "execution_count": null,
   "metadata": {},
   "outputs": [],
   "source": [
    "# Triangle wave, seems distorted by the lower cut-off frequency\n",
    "# of the DAC output balun transformer\n",
    "# samples = arange(-2**15, 2**15, 512, dtype=int16)\n",
    "\n",
    "# Positive and negative pulse\n",
    "samples = zeros(4096, dtype=int16)\n",
    "samples[100] = 32000\n",
    "samples[140] = -32000\n",
    "\n",
    "print(len(samples))\n",
    "setSamples(r, samples)"
   ]
  },
  {
   "cell_type": "markdown",
   "metadata": {},
   "source": [
    "# Main DDS (not used)"
   ]
  },
  {
   "cell_type": "code",
   "execution_count": 35,
   "metadata": {},
   "outputs": [
    {
     "name": "stdout",
     "output_type": "stream",
     "text": [
      "DC_CAL_TONE: ff 50 \n",
      "DDSM_FTW: 00 00 00 00 00 32 \n",
      "DDSM_FTW_LOAD_ACK: 1\n"
     ]
    }
   ],
   "source": [
    "# Setup DDSes\n",
    "wr(0x1E6, (1 << 1))             # Enable DDSM_EN_CAL_DC_INPUT (see Fig. 80) (tone on / off)\n",
    "wr(0x112, (1 << 3) | (1 << 2))  # Enable NCO + Modulus\n",
    "wr(0x596, (1 << 3) | (1 << 2))  # Turn ON Transmit enable\n",
    "\n",
    "# setup main DDS frequency and amplitude\n",
    "ad.setTone(1, 1e9, 1, f_ref=5.12e9)"
   ]
  },
  {
   "cell_type": "code",
   "execution_count": 36,
   "metadata": {},
   "outputs": [
    {
     "data": {
      "text/plain": [
       "0"
      ]
     },
     "execution_count": 36,
     "metadata": {},
     "output_type": "execute_result"
    }
   ],
   "source": [
    "# DC test-mode off, enable JESD input\n",
    "ad.ad.wr(0x1e6, 0)"
   ]
  },
  {
   "cell_type": "code",
   "execution_count": 53,
   "metadata": {},
   "outputs": [
    {
     "name": "stdout",
     "output_type": "stream",
     "text": [
      "DDSM_NCO_PHASE_OFFSET: 00 00 \n"
     ]
    }
   ],
   "source": [
    "# Adjust DDS phase offset\n",
    "ad.setTone(1, phase=0)"
   ]
  }
 ],
 "metadata": {
  "kernelspec": {
   "display_name": "litex2",
   "language": "python",
   "name": "litex2"
  },
  "language_info": {
   "codemirror_mode": {
    "name": "ipython",
    "version": 3
   },
   "file_extension": ".py",
   "mimetype": "text/x-python",
   "name": "python",
   "nbconvert_exporter": "python",
   "pygments_lexer": "ipython3",
   "version": "3.9.1+"
  }
 },
 "nbformat": 4,
 "nbformat_minor": 2
}
