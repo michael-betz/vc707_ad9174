{
 "cells": [
  {
   "cell_type": "markdown",
   "metadata": {},
   "source": [
    "# init AD9174 for use with on board reference\n",
    "This example uses the `HMC7044` and the 122.88 MHz reference oscillator on the `AD9174-FMC_EBZ` board to generate a DAC sampling clock. No external clock needed.\n",
    "\n",
    "Requires litex_server running and connected to the VC707 USB-uart port:\n",
    "\n",
    "```bash\n",
    "litex_server --uart --uart-port /dev/ttyUSB0 --uart-baudrate 115200\n",
    "\n",
    "```"
   ]
  },
  {
   "cell_type": "code",
   "execution_count": 1,
   "metadata": {},
   "outputs": [],
   "source": [
    "import sys\n",
    "from numpy import *\n",
    "from time import sleep\n",
    "from litex import RemoteClient\n",
    "from ad9174 import Ad9174Settings, Ad9174Init\n",
    "\n",
    "def getId(r):\n",
    "    s = \"\"\n",
    "    for i in range(64):\n",
    "        temp = r.read(r.bases.identifier_mem + i * 4)\n",
    "        if temp == 0:\n",
    "            break\n",
    "        s += chr(temp & 0xFF)\n",
    "    return s"
   ]
  },
  {
   "cell_type": "code",
   "execution_count": 2,
   "metadata": {},
   "outputs": [
    {
     "data": {
      "text/plain": [
       "'AD9174 + VC707 test 2021-02-20 23:28:08'"
      ]
     },
     "execution_count": 2,
     "metadata": {},
     "output_type": "execute_result"
    }
   ],
   "source": [
    "r = RemoteClient(csr_csv='../build/csr.csv', debug=False, port=1234)\n",
    "r.open()\n",
    "getId(r)"
   ]
  },
  {
   "cell_type": "code",
   "execution_count": 3,
   "metadata": {},
   "outputs": [
    {
     "name": "stdout",
     "output_type": "stream",
     "text": [
      "----------------\n",
      " JESD mode 20\n",
      "----------------\n",
      "INTERP_CH: 1  INTERP_MAIN: 1  DSP_CLK_DIV: 16\n",
      "JESD204BSettings(): 5a 05 00 87 00 1f 00 0f 2f 23 80 00 00 e6 \n",
      "         DID:  90        BID:   5     ADJCNT:   0        LID:   0 \n",
      "       PHADJ:   0     ADJDIR:   0          L:   8        SCR:   1 \n",
      "           F:   1          K:  32          M:   1          N:  16 \n",
      "          CS:   0         NP:  16  SUBCLASSV:   1          S:   4 \n",
      "       JESDV:   1         CF:   0         HD:   1       RES1:   0 \n",
      "        RES2:   0       FCHK: 230 \n",
      "   [ LINK_DW:  32     FR_CLK:   4 ]\n"
     ]
    }
   ],
   "source": [
    "settings = Ad9174Settings(json_file='../build/csr.json')\n",
    "print(settings)"
   ]
  },
  {
   "cell_type": "code",
   "execution_count": 4,
   "metadata": {},
   "outputs": [],
   "source": [
    "ad = Ad9174Init(r, settings)\n",
    "wr = ad.ad.wr\n",
    "rr = ad.ad.rr"
   ]
  },
  {
   "cell_type": "markdown",
   "metadata": {},
   "source": [
    "# 0. setup clocking\n",
    "See here for the clock planning:\n",
    "https://docs.google.com/spreadsheets/d/1F6s6cVM1Lo6IOUgZoq9xm0ueGYkePZFeD96N0-kPR9o/edit?usp=sharing"
   ]
  },
  {
   "cell_type": "code",
   "execution_count": 5,
   "metadata": {},
   "outputs": [],
   "source": [
    "ad.hmc.init_hmc7044_int(N2=21) # f_VCO2 = 2580.48 MHz"
   ]
  },
  {
   "cell_type": "code",
   "execution_count": 6,
   "metadata": {},
   "outputs": [],
   "source": [
    "ad.hmc.setup_channel( 2, 2)    # Clock to the AD9174\n",
    "ad.hmc.setup_channel(12, 8)    # DSP clock to the FPGA\n",
    "ad.hmc.setup_channel( 3, 800)  # SYSREF to AD9174\n",
    "ad.hmc.setup_channel(13, 800)  # SYSREF to FPGA\n",
    "ad.hmc.trigger_div_reset()"
   ]
  },
  {
   "cell_type": "code",
   "execution_count": 11,
   "metadata": {},
   "outputs": [
    {
     "name": "stdout",
     "output_type": "stream",
     "text": [
      "f_jesd = 322.557199 MHz  f_ref = 3.225572 MHz\n"
     ]
    }
   ],
   "source": [
    "ad.fpga_print_clocks()"
   ]
  },
  {
   "cell_type": "markdown",
   "metadata": {},
   "source": [
    "# 1. init AD9174"
   ]
  },
  {
   "cell_type": "code",
   "execution_count": 21,
   "metadata": {},
   "outputs": [
    {
     "name": "stdout",
     "output_type": "stream",
     "text": [
      "AD917X_NVM_BLR_DONE: 1\n",
      "PROD_ID: 0x9174\n",
      "PROD_GRADE: 0  DEV_REVISION: 5\n",
      "DAC PLL locked: 1\n",
      "DLL locked: 1\n",
      "SPI_PAGEINDX: 0b01000001\n",
      "CAL_STAT: 1\n",
      "SERDES PLL locked: 1\n",
      "MODE_NOT_IN_TABLE: 0\n"
     ]
    }
   ],
   "source": [
    "ad.init_ad9174(ADC_CLK_DIV=4, USE_PLL=True, M_DIV=2, N_DIV=2, OUT_DIV=2)"
   ]
  },
  {
   "cell_type": "markdown",
   "metadata": {},
   "source": [
    "# Everything below == broken"
   ]
  },
  {
   "cell_type": "markdown",
   "metadata": {},
   "source": [
    "# 3. Init the FPGA side"
   ]
  },
  {
   "cell_type": "code",
   "execution_count": 22,
   "metadata": {},
   "outputs": [
    {
     "name": "stdout",
     "output_type": "stream",
     "text": [
      "status: 000\n",
      "status: 001\n"
     ]
    }
   ],
   "source": [
    "# r.regs.ctrl_reset.write(1)  # resets ALL clockdomains (HARSH!)\n",
    "r.regs.control_control.write(0b01)  # resets PHYs and jesd core\n",
    "print('status: {:03b}'.format(r.regs.control_status.read()))\n",
    "\n",
    "# bit1: links_enable,  bit0: phys_reset\n",
    "r.regs.control_control.write(0b10)\n",
    "# bit2: /jsync,  bit1: links_ready,  bit0: phys_ready\n",
    "print('status: {:03b}'.format(r.regs.control_status.read()))"
   ]
  },
  {
   "cell_type": "code",
   "execution_count": 18,
   "metadata": {},
   "outputs": [
    {
     "name": "stdout",
     "output_type": "stream",
     "text": [
      "status: 000\n",
      "status: 000\n",
      "SYNC_ROTATION_DONE 1\n",
      "DYN_LINK_LATENCY  0 cycles\n",
      "JESD_IRQ_STATUSA: Code Group Sync. failed\n",
      "JESD_IRQ_STATUSA: Frame Sync. failed\n",
      "IRQ_STATUS: Lane FIFO overflow/underflow\n",
      "IRQ_STATUS: JESD204x receiver not ready\n",
      "IRQ_STATUS: SYSREF jitter too large\n",
      "😭\n"
     ]
    }
   ],
   "source": [
    "ad.trigger_jref_sync()\n",
    "ad.print_irq_flags(True, True)\n",
    "if ad.print_irq_flags(True):\n",
    "    print('😭')\n",
    "else:\n",
    "    print('😃')"
   ]
  },
  {
   "cell_type": "markdown",
   "metadata": {},
   "source": [
    "# 4. Test link"
   ]
  },
  {
   "cell_type": "code",
   "execution_count": 14,
   "metadata": {},
   "outputs": [
    {
     "name": "stdout",
     "output_type": "stream",
     "text": [
      "IRQ_STATUS: Lane FIFO overflow/underflow\n",
      "IRQ_STATUS: JESD204x receiver not ready\n",
      "IRQ_STATUS: SYSREF jitter too large\n",
      "\n",
      "JESD settings, received on lane 0 vs (programmed):\n",
      "450: 00 (5a)\n",
      "451: 00 (05)\n",
      "452: 00 (00)\n",
      "453: 00 (87)\n",
      "454: 00 (00)\n",
      "455: 00 (1f)\n",
      "456: 00 (00)\n",
      "457: 00 (0f)\n",
      "458: 00 (2f)\n",
      "459: 00 (23)\n",
      "45a: 00 (80)\n",
      "45b: 00 (00)\n",
      "45c: 00 (00)\n",
      "45d: 00 (e6)\n",
      "CHK: 00 (e6) config mismatch!\n",
      "\n",
      "Lane status:\n",
      "      LANE_DESKEW: 00000000\n",
      "    BAD_DISPARITY: 00000000\n",
      "     NOT_IN_TABLE: 00000000\n",
      " UNEXPECTED_KCHAR: 00000000\n",
      "    CODE_GRP_SYNC: 00000000\n",
      "       FRAME_SYNC: 00000000\n",
      "    GOOD_CHECKSUM: 00000000\n",
      "   INIT_LANE_SYNC: 00000000\n",
      "FIFO_STATUS_REG_0: 00000000\n",
      "FIFO_STATUS_REG_1: 10000000\n",
      "fpga j_sync errs: 98066127\n",
      "\n",
      "STPL test:\n",
      "converter: 0, sample: 0, tp: 597a, fail: 1\n",
      "converter: 0, sample: 1, tp: b2f3, fail: 1\n",
      "converter: 0, sample: 2, tp: 0c6c, fail: 1\n",
      "converter: 0, sample: 3, tp: 65e5, fail: 1\n",
      "converter: 0, sample: 4, tp: bf5e, fail: 1\n",
      "converter: 0, sample: 5, tp: 18d7, fail: 1\n",
      "converter: 0, sample: 6, tp: 7250, fail: 1\n",
      "converter: 0, sample: 7, tp: cbc9, fail: 1\n",
      "converter: 0, sample: 8, tp: 2542, fail: 1\n",
      "converter: 0, sample: 9, tp: 7ebb, fail: 1\n",
      "converter: 0, sample: 10, tp: d834, fail: 1\n",
      "converter: 0, sample: 11, tp: 31ad, fail: 1\n",
      "converter: 0, sample: 12, tp: 8b26, fail: 1\n",
      "converter: 0, sample: 13, tp: e49f, fail: 1\n",
      "converter: 0, sample: 14, tp: 3e18, fail: 1\n",
      "converter: 0, sample: 15, tp: 9791, fail: 1\n"
     ]
    },
    {
     "data": {
      "text/plain": [
       "1"
      ]
     },
     "execution_count": 14,
     "metadata": {},
     "output_type": "execute_result"
    }
   ],
   "source": [
    "ad.print_irq_flags(True)\n",
    "print()\n",
    "\n",
    "ad.print_ilas()\n",
    "\n",
    "ad.print_lane_status()\n",
    "print()\n",
    "\n",
    "ad.test_stpl()"
   ]
  },
  {
   "cell_type": "markdown",
   "metadata": {},
   "source": [
    "# Main DDS"
   ]
  },
  {
   "cell_type": "code",
   "execution_count": 35,
   "metadata": {},
   "outputs": [
    {
     "name": "stdout",
     "output_type": "stream",
     "text": [
      "DC_CAL_TONE: ff 50 \n",
      "DDSM_FTW: 00 00 00 00 00 32 \n",
      "DDSM_FTW_LOAD_ACK: 1\n"
     ]
    }
   ],
   "source": [
    "# Setup DDSes\n",
    "wr(0x1E6, (1 << 1))             # Enable DDSM_EN_CAL_DC_INPUT (see Fig. 80) (tone on / off)\n",
    "wr(0x112, (1 << 3) | (1 << 2))  # Enable NCO + Modulus\n",
    "wr(0x596, (1 << 3) | (1 << 2))  # Turn ON Transmit enable\n",
    "\n",
    "# setup main DDS frequency and amplitude\n",
    "ad.setTone(1, 1e9, 1, f_ref=5.12e9)"
   ]
  },
  {
   "cell_type": "code",
   "execution_count": 36,
   "metadata": {},
   "outputs": [
    {
     "data": {
      "text/plain": [
       "0"
      ]
     },
     "execution_count": 36,
     "metadata": {},
     "output_type": "execute_result"
    }
   ],
   "source": [
    "# DC test-mode off, enable JESD input\n",
    "ad.ad.wr(0x1e6, 0)"
   ]
  },
  {
   "cell_type": "code",
   "execution_count": 53,
   "metadata": {},
   "outputs": [
    {
     "name": "stdout",
     "output_type": "stream",
     "text": [
      "DDSM_NCO_PHASE_OFFSET: 00 00 \n"
     ]
    }
   ],
   "source": [
    "# Adjust DDS phase offset\n",
    "ad.setTone(1, phase=0)"
   ]
  },
  {
   "cell_type": "markdown",
   "metadata": {},
   "source": [
    "### Write IQ sample waveforms\n",
    "kinda works. Output can be observed on IQ analyzer."
   ]
  },
  {
   "cell_type": "code",
   "execution_count": 38,
   "metadata": {},
   "outputs": [],
   "source": [
    "def write_samples(vals, m=0):\n",
    "    ''' vals = [-1.0 ... 1.0], m = converter index '''\n",
    "    bits = 16\n",
    "    vals = (array(vals) * 0x7fff).astype(int)\n",
    "    isNeg = vals < 0\n",
    "    vals[isNeg] = (vals[isNeg] + (1 << bits)) & ((1 << bits) - 1)\n",
    "    r.write(r.mems.m0_s0.base + 0x10000 * m, vals.tolist())\n",
    "    r.regs.sample_gen_max_ind.write(len(vals) - 1)"
   ]
  },
  {
   "cell_type": "code",
   "execution_count": 43,
   "metadata": {},
   "outputs": [],
   "source": [
    "write_samples(zeros(255), 0)\n",
    "sleep(0.5)\n",
    "write_samples(zeros(255), 1)"
   ]
  },
  {
   "cell_type": "code",
   "execution_count": 51,
   "metadata": {},
   "outputs": [],
   "source": [
    "write_samples(linspace(-0.9, 0.9, 254), 0)"
   ]
  },
  {
   "cell_type": "code",
   "execution_count": 49,
   "metadata": {},
   "outputs": [],
   "source": [
    "write_samples(sin(linspace(0, 3 * pi, 254)), 1)"
   ]
  },
  {
   "cell_type": "code",
   "execution_count": 50,
   "metadata": {},
   "outputs": [],
   "source": [
    "write_samples(sin(linspace(0, 2.5 * pi, 254)), 0)"
   ]
  },
  {
   "cell_type": "markdown",
   "metadata": {},
   "source": [
    "# app layer PRBS 😭\n",
    "doesn't work 😠 this feature seems completely undocumented for AD9174 ☹️"
   ]
  },
  {
   "cell_type": "code",
   "execution_count": 60,
   "metadata": {},
   "outputs": [],
   "source": [
    "r.regs.prbs_gen_sample_prbs_en.write(0)"
   ]
  },
  {
   "cell_type": "code",
   "execution_count": 12,
   "metadata": {},
   "outputs": [
    {
     "data": {
      "text/plain": [
       "0"
      ]
     },
     "execution_count": 12,
     "metadata": {},
     "output_type": "execute_result"
    }
   ],
   "source": [
    "r.regs.prbs_gen_sample_prbs_en.read()"
   ]
  },
  {
   "cell_type": "code",
   "execution_count": 79,
   "metadata": {},
   "outputs": [
    {
     "name": "stdout",
     "output_type": "stream",
     "text": [
      "reg 0x14b, PRBS:\n",
      "    bit 7, PRBS_GOOD_Q, R, reset 0x00\n",
      "    DAC1 good data indicator. 1: Correct PRBS sequence detected. 0: Incorrect sequence detected. Sticky; reset to 1 by PRBS_RESET.\n",
      "\n",
      "    bit 6, PRBS_GOOD_I, R, reset 0x00\n",
      "    DAC0 good data indicator. 0: Incorrect sequence detected. Sticky; reset to 1 by PRBS_RESET. 1: Correct PRBS sequence detected.\n",
      "\n",
      "    bit 5, RESERVED, R, reset 0x00\n",
      "    Reserved.\n",
      "\n",
      "    bit 4, PRBS_INV_Q, R/W, reset 0x01\n",
      "    DAC1 data inversion. 0: Expect normal data. 1: Expect inverted data.\n",
      "\n",
      "    bit 3, PRBS_INV_I, R/W, reset 0x00\n",
      "    DAC0 data inversion. 0: Expect normal data. 1: Expect inverted data.\n",
      "\n",
      "    bit 2, PRBS_MODE, R/W, reset 0x00\n",
      "    Select which PRBS polynomial is used for the datapath PRBS test. 0: 7-bit: x7 + x6 + 1. 1: 15-bit: x15 + x14 + 1.\n",
      "\n",
      "    bit 1, PRBS_RESET, R/W, reset 0x00\n",
      "    Reset error counters. 0: Normal operation. 1: Reset counters.\n",
      "\n",
      "    bit 0, PRBS_EN, R/W, reset 0x00\n",
      "    Enable PRBS checker. 0: Disable. 1: Enable.\n",
      "\n"
     ]
    }
   ],
   "source": [
    "ad.ad.help(0x14b)"
   ]
  },
  {
   "cell_type": "code",
   "execution_count": 10,
   "metadata": {},
   "outputs": [
    {
     "name": "stdout",
     "output_type": "stream",
     "text": [
      "0: 00000101, 255, 255\n",
      "1: 00000101, 255, 255\n",
      "2: 00000101, 255, 255\n",
      "3: 11000101,   0,   0\n",
      "4: 11000101,   0,   0\n",
      "5: 11000101,   0,   0\n",
      "6: 00000101, 255, 255\n"
     ]
    }
   ],
   "source": [
    "ad.ad.wr(0x14b, 0b0111)\n",
    "ad.ad.wr(0x14b, 0b0101)\n",
    "\n",
    "for ch in range(7):\n",
    "    ad.ad.wr(0x14e, ch)\n",
    "    print('{:d}: {:08b}, {:3d}, {:3d}'.format(ch, ad.ad.rr(0x14b), ad.ad.rr(0x14c), ad.ad.rr(0x14d)))"
   ]
  },
  {
   "cell_type": "code",
   "execution_count": null,
   "metadata": {},
   "outputs": [],
   "source": []
  }
 ],
 "metadata": {
  "kernelspec": {
   "display_name": "litex2",
   "language": "python",
   "name": "litex2"
  },
  "language_info": {
   "codemirror_mode": {
    "name": "ipython",
    "version": 3
   },
   "file_extension": ".py",
   "mimetype": "text/x-python",
   "name": "python",
   "nbconvert_exporter": "python",
   "pygments_lexer": "ipython3",
   "version": "3.9.1+"
  }
 },
 "nbformat": 4,
 "nbformat_minor": 2
}
