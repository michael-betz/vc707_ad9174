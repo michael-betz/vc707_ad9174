{
 "cells": [
  {
   "cell_type": "markdown",
   "id": "pregnant-intent",
   "metadata": {},
   "source": [
    "# Interact with `SampleGen` simulation"
   ]
  },
  {
   "cell_type": "markdown",
   "id": "mexican-custom",
   "metadata": {},
   "source": [
    "requires litex_server running and connected to the VC707 USB-uart port:\n",
    "\n",
    "```bash\n",
    "# both run at the same time in separate windows ...\n",
    "$ python3 sim_sample_gen.py\n",
    "$ litex_server --uart --uart-port socket://localhost:1111\n",
    "```"
   ]
  },
  {
   "cell_type": "code",
   "execution_count": 1,
   "id": "critical-gazette",
   "metadata": {},
   "outputs": [],
   "source": [
    "import sys\n",
    "from numpy import *\n",
    "from time import sleep\n",
    "from litex import RemoteClient\n",
    "\n",
    "def getId(r):\n",
    "    s = \"\"\n",
    "    for i in range(64):\n",
    "        temp = r.read(r.bases.identifier_mem + i * 4)\n",
    "        if temp == 0:\n",
    "            break\n",
    "        s += chr(temp & 0xFF)\n",
    "    return s\n",
    "\n",
    "\n",
    "def hd(dat, pad_width=1, word_width=None):\n",
    "    ''' print a hex-dump, word_width in bytes '''\n",
    "    if word_width is None:\n",
    "        word_width = pad_width\n",
    "    for i, d in enumerate(dat):\n",
    "        if i % 8 == 0 and len(dat) > 8:\n",
    "            print('\\n{:04x}: '.format(i * word_width), end='')\n",
    "        print('{:0{ww}x} '.format(d, ww=pad_width * 2), end='')\n",
    "    print()\n",
    "    \n",
    "def big_write(r, addr, datas, chunk_size=255):\n",
    "    '''\n",
    "    write large amount of data to litex server in chunks\n",
    "    \n",
    "    r: a litex RemoteClient object\n",
    "    addr: start address in [bytes]\n",
    "    datas: list or numpy array of dtype uint32 \n",
    "    '''\n",
    "    datas = array(datas, dtype=uint32)\n",
    "    s_index = 0\n",
    "    while True:\n",
    "        dat = datas[s_index: s_index + chunk_size]\n",
    "        if len(dat) <= 0:\n",
    "            break\n",
    "#         print(\"****\", hex(addr))\n",
    "#         hd(dat, 4)\n",
    "        r.write(addr, dat.tolist())\n",
    "        addr += 4 * len(dat)\n",
    "        s_index += chunk_size\n",
    "\n",
    "def setSamples(r, samples):\n",
    "    '''\n",
    "    Write sample memory of arbitrary waveform generator\n",
    "  \n",
    "    r: a litex RemoteClient object\n",
    "    samples: numpy array of dtype int16\n",
    "             len(samples) will be clipped to the next multiple of 16\n",
    "    '''\n",
    "    N_MEM = 8  # Number of block rams\n",
    "    N_SAMPLES = 16  # parallel samples / dsp clock cycle\n",
    "\n",
    "    # signed 16 bit samples in natural order\n",
    "    samples = array(samples, dtype=int16)\n",
    "\n",
    "    # pack 2 x signed 16 bit samples into one unsigned 32 bit memory word\n",
    "    s_u8 = samples.tobytes()\n",
    "    s_u32 = frombuffer(s_u8, dtype=uint32)\n",
    "\n",
    "    for n in range(N_MEM):\n",
    "        mem = getattr(r.mems, f'm0_n{n}')\n",
    "        s = s_u32[n::N_MEM]\n",
    "#         hd(s, 4)\n",
    "        big_write(r, mem.base, s)\n",
    "\n",
    "    r.regs.sample_gen_max_ind.write(len(samples) // N_SAMPLES - 1)"
   ]
  },
  {
   "cell_type": "code",
   "execution_count": 2,
   "id": "improving-rogers",
   "metadata": {},
   "outputs": [
    {
     "data": {
      "text/plain": [
       "'LiteX Simulation 2021-03-11 09:36:21'"
      ]
     },
     "execution_count": 2,
     "metadata": {},
     "output_type": "execute_result"
    }
   ],
   "source": [
    "# Connect to litex server\n",
    "r = RemoteClient(csr_csv='out/csr.csv', debug=False, port=1234)\n",
    "r.open()\n",
    "getId(r)"
   ]
  },
  {
   "cell_type": "code",
   "execution_count": 3,
   "id": "outer-coach",
   "metadata": {},
   "outputs": [],
   "source": [
    "# samples = arange(0x80) - 0x40\n",
    "samples = arange(0x2000) - 0x1000\n",
    "\n",
    "setSamples(r, samples)"
   ]
  },
  {
   "cell_type": "code",
   "execution_count": 4,
   "id": "atlantic-register",
   "metadata": {},
   "outputs": [],
   "source": [
    "# start vcd dump for a few ms, then stop sim.\n",
    "r.regs.sim_trace_enable.write(1)\n",
    "sleep(0.01)\n",
    "r.regs.sim_finish_finish.write(1)"
   ]
  },
  {
   "cell_type": "markdown",
   "id": "assigned-opening",
   "metadata": {},
   "source": [
    "to inspect result, run\n",
    "\n",
    "```bash\n",
    "gtkwave out/gateware/sim.vcd\n",
    "```\n",
    "\n",
    "look for `TOP/sim/source_converter0` which is the sample stream for the DAC."
   ]
  }
 ],
 "metadata": {
  "kernelspec": {
   "display_name": "litex2",
   "language": "python",
   "name": "litex2"
  },
  "language_info": {
   "codemirror_mode": {
    "name": "ipython",
    "version": 3
   },
   "file_extension": ".py",
   "mimetype": "text/x-python",
   "name": "python",
   "nbconvert_exporter": "python",
   "pygments_lexer": "ipython3",
   "version": "3.9.1+"
  }
 },
 "nbformat": 4,
 "nbformat_minor": 5
}
