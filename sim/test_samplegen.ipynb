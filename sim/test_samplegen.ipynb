{
 "cells": [
  {
   "cell_type": "markdown",
   "id": "pregnant-intent",
   "metadata": {},
   "source": [
    "# Interact with `SampleGen` simulation"
   ]
  },
  {
   "cell_type": "markdown",
   "id": "mexican-custom",
   "metadata": {},
   "source": [
    "requires litex_server running and connected to the VC707 USB-uart port:\n",
    "\n",
    "```bash\n",
    "# both run at the same time in separate windows ...\n",
    "$ python3 sim_sample_gen.py\n",
    "$ litex_server --uart --uart-port socket://localhost:1111\n",
    "```"
   ]
  },
  {
   "cell_type": "code",
   "execution_count": 1,
   "id": "critical-gazette",
   "metadata": {},
   "outputs": [],
   "source": [
    "from numpy import *\n",
    "from time import sleep\n",
    "from litex import RemoteClient\n",
    "import sys\n",
    "sys.path.append('../spi')\n",
    "from client_tools import getId, hd, big_write, setSamples"
   ]
  },
  {
   "cell_type": "code",
   "execution_count": 35,
   "id": "improving-rogers",
   "metadata": {},
   "outputs": [
    {
     "data": {
      "text/plain": [
       "'LiteX Simulation 2021-03-11 10:04:08'"
      ]
     },
     "execution_count": 35,
     "metadata": {},
     "output_type": "execute_result"
    }
   ],
   "source": [
    "# Connect to litex server\n",
    "r = RemoteClient(csr_csv='out/csr.csv', debug=False, port=1234)\n",
    "r.open()\n",
    "getId(r)"
   ]
  },
  {
   "cell_type": "code",
   "execution_count": 36,
   "id": "outer-coach",
   "metadata": {},
   "outputs": [],
   "source": [
    "# samples = arange(0x80) - 0x40\n",
    "samples = arange(0x2000) - 0x1000\n",
    "setSamples(r, samples)"
   ]
  },
  {
   "cell_type": "code",
   "execution_count": 37,
   "id": "atlantic-register",
   "metadata": {},
   "outputs": [],
   "source": [
    "# start vcd dump for a few ms, then stop sim.\n",
    "r.regs.sim_trace_enable.write(1)\n",
    "sleep(0.01)\n",
    "r.regs.sim_trace_enable.write(0)\n",
    "# r.regs.sim_finish_finish.write(1)"
   ]
  },
  {
   "cell_type": "markdown",
   "id": "assigned-opening",
   "metadata": {},
   "source": [
    "to inspect result, run\n",
    "\n",
    "```bash\n",
    "gtkwave out/gateware/sim.vcd\n",
    "```\n",
    "\n",
    "look for `TOP/sim/source_converter0` which is the sample stream for the DAC."
   ]
  }
 ],
 "metadata": {
  "kernelspec": {
   "display_name": "litex2",
   "language": "python",
   "name": "litex2"
  },
  "language_info": {
   "codemirror_mode": {
    "name": "ipython",
    "version": 3
   },
   "file_extension": ".py",
   "mimetype": "text/x-python",
   "name": "python",
   "nbconvert_exporter": "python",
   "pygments_lexer": "ipython3",
   "version": "3.9.1+"
  }
 },
 "nbformat": 4,
 "nbformat_minor": 5
}
