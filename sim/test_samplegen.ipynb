{
 "cells": [
  {
   "cell_type": "markdown",
   "metadata": {},
   "source": [
    "# Interact with `SampleGen` simulation"
   ]
  },
  {
   "cell_type": "markdown",
   "metadata": {},
   "source": [
    "requires litex_server running and connected to the VC707 USB-uart port:\n",
    "\n",
    "```bash\n",
    "# both run at the same time in separate windows ...\n",
    "$ python3 sim_sample_gen.py\n",
    "$ litex_server --uart --uart-port socket://localhost:1111 --bind-port 2234\n",
    "```"
   ]
  },
  {
   "cell_type": "code",
   "execution_count": 5,
   "metadata": {},
   "outputs": [],
   "source": [
    "from numpy import *\n",
    "from time import sleep\n",
    "from litex import RemoteClient\n",
    "import sys\n",
    "sys.path.append('../spi')\n",
    "from client_tools import getId, hd, big_write, setSamples"
   ]
  },
  {
   "cell_type": "code",
   "execution_count": 10,
   "metadata": {},
   "outputs": [
    {
     "data": {
      "text/plain": [
       "'LiteX Simulation 2021-03-26 16:52:21'"
      ]
     },
     "execution_count": 10,
     "metadata": {},
     "output_type": "execute_result"
    }
   ],
   "source": [
    "# Connect to litex server\n",
    "r = RemoteClient(csr_csv='out/csr.csv', debug=False, port=2234)\n",
    "r.open()\n",
    "getId(r)"
   ]
  },
  {
   "cell_type": "code",
   "execution_count": 45,
   "metadata": {},
   "outputs": [],
   "source": [
    "# samples = arange(0x80) - 0x40\n",
    "# samples = arange(0x2000) - 0x1000\n",
    "samples = arange(64)\n",
    "setSamples(r, samples)"
   ]
  },
  {
   "cell_type": "code",
   "execution_count": 53,
   "metadata": {},
   "outputs": [],
   "source": [
    "assert r.regs.sample_gen_max_ind.read() == len(samples)//16 -1"
   ]
  },
  {
   "cell_type": "code",
   "execution_count": 48,
   "metadata": {},
   "outputs": [],
   "source": [
    "# start vcd dump for a few ms, then stop sim.\n",
    "r.regs.sim_trace_enable.write(1)\n",
    "sleep(0.01)\n",
    "r.regs.sim_trace_enable.write(0)\n",
    "# r.regs.sim_finish_finish.write(1)"
   ]
  },
  {
   "cell_type": "markdown",
   "metadata": {},
   "source": [
    "to inspect result, run\n",
    "\n",
    "```bash\n",
    "gtkwave out/gateware/sim.vcd\n",
    "```\n",
    "\n",
    "look for `TOP/sim/source_converter0` which is the sample stream for the DAC."
   ]
  }
 ],
 "metadata": {
  "kernelspec": {
   "display_name": "litex",
   "language": "python",
   "name": "litex"
  },
  "language_info": {
   "codemirror_mode": {
    "name": "ipython",
    "version": 3
   },
   "file_extension": ".py",
   "mimetype": "text/x-python",
   "name": "python",
   "nbconvert_exporter": "python",
   "pygments_lexer": "ipython3",
   "version": "3.9.1"
  }
 },
 "nbformat": 4,
 "nbformat_minor": 5
}
